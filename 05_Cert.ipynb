{
 "cells": [
  {
   "cell_type": "markdown",
   "metadata": {},
   "source": [
    "# Projeto cert-app"
   ]
  },
  {
   "cell_type": "markdown",
   "metadata": {},
   "source": [
    "## Preparando o acesso ao Ambiente"
   ]
  },
  {
   "cell_type": "code",
   "execution_count": null,
   "metadata": {},
   "outputs": [],
   "source": [
    "export KUBECONFIG=~/work/kubeconfig\n",
    "export myNamespace=kdop-learn\n",
    "cd ~/work/inovacao\n",
    "echo $PWD"
   ]
  },
  {
   "cell_type": "markdown",
   "metadata": {},
   "source": [
    "1. Publicando o Projeto cert-app"
   ]
  },
  {
   "cell_type": "code",
   "execution_count": null,
   "metadata": {},
   "outputs": [],
   "source": [
    "helm upgrade --install --namespace $myNamespace --create-namespace cert-app ~/work/inovacao/cert-app/helm/cert-app"
   ]
  },
  {
   "cell_type": "markdown",
   "metadata": {},
   "source": [
    "2. Consultando os recursos do namespace"
   ]
  },
  {
   "cell_type": "code",
   "execution_count": null,
   "metadata": {},
   "outputs": [],
   "source": [
    "kubectl get all -n $myNamespace"
   ]
  },
  {
   "cell_type": "markdown",
   "metadata": {},
   "source": [
    "3. Validando o Serviço\n",
    "\n",
    "    Expor o serviço temporariamente para validação\n",
    "    \n",
    "    Abra um terminal e execute o comando abaixo\n",
    "```bash\n",
    "export KUBECONFIG=~/work/kubeconfig\n",
    "export myNamespace=kdop-learn\n",
    "kubectl port-forward svc/cert-app 8080:5000 -n $myNamespace \n",
    "```\n",
    "\n",
    "Consulte o serviço acessando o link abaixo:"
   ]
  },
  {
   "cell_type": "code",
   "execution_count": null,
   "metadata": {},
   "outputs": [],
   "source": [
    "curl http://localhost:8080/health"
   ]
  },
  {
   "cell_type": "markdown",
   "metadata": {},
   "source": [
    "### O tráfego de requisições.\n",
    "\n",
    "A aplicação cert-app foi criada originalmente para ser utilizado apenas pela aplicação `front-app`, mas foi necessário expó-la para outras aplicações fora do cluster. Uma vez que ela é coesa e desacoplada da aplicação `front-app`, a solução foi simplesmente criar um novo endereço.\n",
    "\n",
    "Como você resolveria isso? Sabendo que a cert-app já tem um serviço do tipo ClusterIP que é acessado pela front-app no endereço http://cert-app:5000/get-cert?p=MyName."
   ]
  },
  {
   "cell_type": "code",
   "execution_count": null,
   "metadata": {},
   "outputs": [],
   "source": [
    "kubectl get svc/cert-app -n $myNamespace"
   ]
  },
  {
   "cell_type": "markdown",
   "metadata": {},
   "source": [
    "Qual o comando para descrever a solução dada?"
   ]
  },
  {
   "cell_type": "code",
   "execution_count": null,
   "metadata": {},
   "outputs": [],
   "source": [
    "# digite o comando aqui e ctrl+enter ou command+enter\n",
    "kubectl describe ingress/cert-app -n $myNamespace"
   ]
  },
  {
   "cell_type": "markdown",
   "metadata": {},
   "source": [
    "Vamos dar uma olhada na solução, abra o arquivo [values.yaml](work/inovacao/cert-app/helm/cert-app/values.yaml) e procure pelas variáveis do Ingress.\n",
    "\n",
    "Essas são as URLs da aplicação:"
   ]
  },
  {
   "cell_type": "code",
   "execution_count": null,
   "metadata": {},
   "outputs": [],
   "source": [
    "echo http://learn.kdop.net/$myNamespace/cert-app/get-cert?p=$myNamespace\n",
    "# echo https://learn.kdop.net/$myNamespace/cert-app/get-cert?p=$myNamespace\n",
    "echo http://learn.kdop.net/$myNamespace/front-app/index"
   ]
  },
  {
   "cell_type": "markdown",
   "metadata": {},
   "source": [
    "## Excluindo as aplicações"
   ]
  },
  {
   "cell_type": "code",
   "execution_count": null,
   "metadata": {},
   "outputs": [],
   "source": [
    "helm delete front-app --namespace $myNamespace\n",
    "helm delete back-app --namespace $myNamespace\n",
    "helm delete cert-app --namespace $myNamespace\n",
    "kubectl delete ns $myNamespace"
   ]
  },
  {
   "cell_type": "markdown",
   "metadata": {},
   "source": [
    "## Referências\n",
    "\n",
    "* [Kubernetes tutoriais interativos](https://kubernetes.io/docs/tutorials/)\n",
    "* [Docker Hub KDOP](https://hub.docker.com/u/kdop)\n",
    "* [kdop-dev/pilula-inovacao-kubernetes](https://github.com/kdop-dev/pilula-inovacao-kubernetes)\n",
    "* [kubectl Cheat Sheet](https://kubernetes.io/docs/reference/kubectl/cheatsheet/)\n"
   ]
  },
  {
   "cell_type": "markdown",
   "metadata": {},
   "source": [
    "[<img align=\"left\" src=\"media/voltar.png\" width=\"100\"/>](04_Back.ipynb)\n"
   ]
  }
 ],
 "metadata": {
  "kernelspec": {
   "display_name": "Bash",
   "language": "bash",
   "name": "bash"
  },
  "language_info": {
   "codemirror_mode": "shell",
   "file_extension": ".sh",
   "mimetype": "text/x-sh",
   "name": "bash"
  }
 },
 "nbformat": 4,
 "nbformat_minor": 4
}
