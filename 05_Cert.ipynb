{
 "cells": [
  {
   "cell_type": "markdown",
   "source": [
    "# Projeto cert-app"
   ],
   "metadata": {}
  },
  {
   "cell_type": "markdown",
   "source": [
    "## Preparando o acesso ao Ambiente"
   ],
   "metadata": {}
  },
  {
   "cell_type": "code",
   "execution_count": null,
   "source": [
    "export KUBECONFIG=~/work/kubeconfig\n",
    "export myNamespace=kdop-learn\n",
    "cd ~/work/inovacao\n",
    "echo $PWD"
   ],
   "outputs": [],
   "metadata": {}
  },
  {
   "cell_type": "markdown",
   "source": [
    "1. Publicando o Projeto cert-app"
   ],
   "metadata": {}
  },
  {
   "cell_type": "code",
   "execution_count": null,
   "source": [
    "helm upgrade --install --namespace $myNamespace --create-namespace cert-app ~/work/inovacao/cert-app/helm/cert-app"
   ],
   "outputs": [],
   "metadata": {}
  },
  {
   "cell_type": "markdown",
   "source": [
    "2. Consultando os recursos do namespace"
   ],
   "metadata": {}
  },
  {
   "cell_type": "code",
   "execution_count": null,
   "source": [
    "kubectl get all -n $myNamespace "
   ],
   "outputs": [],
   "metadata": {}
  },
  {
   "cell_type": "markdown",
   "source": [
    "3. Validando o Serviço\n",
    "\n",
    "    Expor o serviço temporariamente para validação\n",
    "    \n",
    "    Abra um terminal e execute o comando abaixo\n",
    "```bash\n",
    "export KUBECONFIG=~/work/kubeconfig\n",
    "export myNamespace=kdop-learn\n",
    "kubectl port-forward svc/cert-app 8080:5000 -n $myNamespace \n",
    "```\n",
    "\n",
    "Consulte o serviço acessando o link abaixo:"
   ],
   "metadata": {}
  },
  {
   "cell_type": "code",
   "execution_count": null,
   "source": [
    "curl http://localhost:8080/health"
   ],
   "outputs": [],
   "metadata": {}
  },
  {
   "cell_type": "markdown",
   "source": [
    "### O tráfego de requisições.\n",
    "\n",
    "A aplicação cert-app foi criada originalmente para ser utilizado apenas pela aplicação `front-app`, mas foi necessário expó-la para outras aplicações fora do cluster. Uma vez que ela é coesa e desacoplada da aplicação `front-app`, a solução foi simplesmente criar um novo endereço.\n",
    "\n",
    "Como você resolveria isso? Sabendo que a cert-app já tem um serviço do tipo ClusterIP que é acessado pela front-app no endereço http://cert-app:5000/get-cert?p=MyName."
   ],
   "metadata": {}
  },
  {
   "cell_type": "code",
   "execution_count": 8,
   "source": [
    "kubectl get svc/cert-app -n $myNamespace"
   ],
   "outputs": [
    {
     "output_type": "stream",
     "name": "stdout",
     "text": [
      "NAME       TYPE        CLUSTER-IP    EXTERNAL-IP   PORT(S)    AGE\n",
      "cert-app   ClusterIP   10.0.226.10   <none>        5000/TCP   155m\n"
     ]
    }
   ],
   "metadata": {}
  },
  {
   "cell_type": "markdown",
   "source": [
    "Qual o comando para descrever a solução dada?"
   ],
   "metadata": {}
  },
  {
   "cell_type": "code",
   "execution_count": 9,
   "source": [
    "# digite o comando aqui e ctrl+enter ou command+enter\n",
    "kubectl describe ingress/cert-app -n $myNamespace"
   ],
   "outputs": [
    {
     "output_type": "stream",
     "name": "stdout",
     "text": [
      "Name:             cert-app\n",
      "Namespace:        kdop-learn\n",
      "Address:          52.188.78.54\n",
      "Default backend:  default-http-backend:80 (<error: endpoints \"default-http-backend\" not found>)\n",
      "Rules:\n",
      "  Host                          Path  Backends\n",
      "  ----                          ----  --------\n",
      "  learn.kdop.net                \n",
      "                                /kdop-learn/cert-app(/|$)(.*)   cert-app:5000 (10.240.0.105:5000,10.240.0.13:5000)\n",
      "  kdop-learn.krthomolog.com.br  \n",
      "                                /kdop-learn/cert-app(/|$)(.*)   cert-app:5000 (10.240.0.105:5000,10.240.0.13:5000)\n",
      "Annotations:                    meta.helm.sh/release-name: cert-app\n",
      "                                meta.helm.sh/release-namespace: kdop-learn\n",
      "                                nginx.ingress.kubernetes.io/rewrite-target: /$2\n",
      "Events:                         <none>\n"
     ]
    }
   ],
   "metadata": {}
  },
  {
   "cell_type": "markdown",
   "source": [
    "Vamos dar uma olhada na solução, abra o arquivo [values.yaml](work/inovacao/cert-app/helm/cert-app/values.yaml) e procure pelas variáveis do Ingress.\n",
    "\n",
    "Essas são as URLs da aplicação:"
   ],
   "metadata": {}
  },
  {
   "cell_type": "code",
   "execution_count": null,
   "source": [
    "echo http://learn.kdop.net/$myNamespace/cert-app/get-cert?p=$myNamespace\n",
    "echo https://learn.kdop.net/$myNamespace/cert-app/get-cert?p=$myNamespace"
   ],
   "outputs": [],
   "metadata": {}
  },
  {
   "cell_type": "markdown",
   "source": [
    "## Excluindo as aplicações"
   ],
   "metadata": {}
  },
  {
   "cell_type": "code",
   "execution_count": null,
   "source": [
    "helm delete front-app --namespace $myNamespace\n",
    "helm delete back-app --namespace $myNamespace\n",
    "helm delete cert-app --namespace $myNamespace\n",
    "kubectl delete ns $myNamespace"
   ],
   "outputs": [],
   "metadata": {}
  },
  {
   "cell_type": "markdown",
   "source": [
    "## Referências\n",
    "\n",
    "* [Kubernetes tutoriais interativos](https://kubernetes.io/docs/tutorials/)\n",
    "* [Docker Hub KDOP](https://hub.docker.com/u/kdop)\n",
    "* [kdop-dev/pilula-inovacao-kubernetes](https://github.com/kdop-dev/pilula-inovacao-kubernetes)\n",
    "* [kubectl Cheat Sheet](https://kubernetes.io/docs/reference/kubectl/cheatsheet/)\n"
   ],
   "metadata": {}
  },
  {
   "cell_type": "markdown",
   "source": [
    "[<img align=\"left\" src=\"media/voltar.png\" width=\"100\"/>](04_Back.ipynb)\n"
   ],
   "metadata": {}
  }
 ],
 "metadata": {
  "kernelspec": {
   "display_name": "Bash",
   "language": "bash",
   "name": "bash"
  },
  "language_info": {
   "codemirror_mode": "shell",
   "file_extension": ".sh",
   "mimetype": "text/x-sh",
   "name": "bash"
  }
 },
 "nbformat": 4,
 "nbformat_minor": 4
}