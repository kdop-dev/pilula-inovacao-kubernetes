{
 "cells": [
  {
   "cell_type": "markdown",
   "metadata": {},
   "source": [
    "# O Projeto\n",
    "\n",
    "Para este treinamento, iremos utilizar 3 aplicações desenvolvidas em python. \n",
    "* [front-app](https://github.com/kdop-dev/front-app)\n",
    "* [back-app](https://github.com/kdop-dev/back-app)\n",
    "* [cert-app](https://github.com/kdop-dev/cert-app)\n",
    "\n",
    "O front-app possui integração com o back-app e o cert-app.\n",
    "\n",
    "```\n",
    "╭───────────╮      ╭──────────╮\n",
    "│ front-app ├──────┤ back-app │ \n",
    "╰─────┬─────╯      ╰──────────╯\n",
    "      │            ╭──────────╮\n",
    "      ╰────────────┤ cert-app │ \n",
    "                   ╰──────────╯ \n",
    "```\n",
    "\n",
    "## Baixando o Projeto\n",
    "\n",
    "1. Baixar os projetos do repositório Git"
   ]
  },
  {
   "cell_type": "code",
   "execution_count": 1,
   "metadata": {},
   "outputs": [
    {
     "name": "stdout",
     "output_type": "stream",
     "text": [
      "Cloning into 'front-app'...\n",
      "remote: Enumerating objects: 167, done.\u001b[K\n",
      "remote: Counting objects: 100% (167/167), done.\u001b[K\n",
      "remote: Compressing objects: 100% (112/112), done.\u001b[K\n",
      "remote: Total 167 (delta 78), reused 140 (delta 51), pack-reused 0\u001b[K\n",
      "Receiving objects: 100% (167/167), 468.98 KiB | 1.65 MiB/s, done.\n",
      "Resolving deltas: 100% (78/78), done.\n",
      "Cloning into 'back-app'...\n",
      "remote: Enumerating objects: 96, done.\u001b[K\n",
      "remote: Counting objects: 100% (96/96), done.\u001b[K\n",
      "remote: Compressing objects: 100% (67/67), done.\u001b[K\n",
      "remote: Total 96 (delta 34), reused 87 (delta 25), pack-reused 0\u001b[K\n",
      "Unpacking objects: 100% (96/96), 461.20 KiB | 302.00 KiB/s, done.\n",
      "Cloning into 'cert-app'...\n",
      "remote: Enumerating objects: 169, done.\u001b[K\n",
      "remote: Counting objects: 100% (169/169), done.\u001b[K\n",
      "remote: Compressing objects: 100% (112/112), done.\u001b[K\n",
      "remote: Total 169 (delta 75), reused 145 (delta 51), pack-reused 0\u001b[K\n",
      "Receiving objects: 100% (169/169), 468.89 KiB | 2.23 MiB/s, done.\n",
      "Resolving deltas: 100% (75/75), done.\n"
     ]
    }
   ],
   "source": [
    "mkdir -p ~/work/inovacao\n",
    "cd ~/work/inovacao\n",
    "git clone https://github.com/kdop-dev/front-app.git\n",
    "git clone https://github.com/kdop-dev/back-app.git\n",
    "git clone https://github.com/kdop-dev/cert-app.git"
   ]
  },
  {
   "cell_type": "markdown",
   "metadata": {},
   "source": [
    "2. Definindo um nome para o Namespace"
   ]
  },
  {
   "cell_type": "code",
   "execution_count": 2,
   "metadata": {
    "tags": []
   },
   "outputs": [
    {
     "name": "stdout",
     "output_type": "stream",
     "text": [
      "/home/jovyan/work/inovacao\n"
     ]
    }
   ],
   "source": [
    "export myNamespace=kdop-learn\n",
    "sh ~/sh/change.sh"
   ]
  },
  {
   "cell_type": "markdown",
   "metadata": {},
   "source": [
    "## Preparando a Imagem\n",
    "\n",
    "Dentro de cada projeto, temos basicamente a estrutura de pastas abaixo. \n",
    "\n",
    "```\n",
    "front-app/\n",
    "├── front-app/    \n",
    "│   ├── app/ \n",
    "│   ├── Dockerfile\n",
    "│   └── requirements.txt\n",
    "└── helm/\n",
    "    └── front-app/\n",
    "        ├── templates/\n",
    "        ├── Chart.yaml\n",
    "        └── values.yaml\n",
    "```\n",
    "\n",
    "Para a geração da imagem, vamos utilizar o arquivo [Dockerfile](https://github.com/kdop-dev/front-app/blob/master/front-app/Dockerfile)\n",
    "\n",
    "1. Gerando a imagem"
   ]
  },
  {
   "cell_type": "markdown",
   "metadata": {
    "tags": []
   },
   "source": [
    "```bash\n",
    "docker build -t kdop/front-app:0.0.6 front-app/front-app\n",
    "docker build -t kdop/back-app:0.0.6 back-app/back-app\n",
    "docker build -t kdop/cert-app:0.0.6 cert-app/cert-app\n",
    "```"
   ]
  },
  {
   "cell_type": "markdown",
   "metadata": {},
   "source": [
    "2. Subindo a imagem para o Repositório [DockerHub](https://hub.docker.com/)\n",
    "\n",
    "    Após a geração das imagens, elas ficarão disponíveis localmente. Para nosso cluster k8s ter acesso as imagens, será necessário disponibilizá-las em algum repositório."
   ]
  },
  {
   "cell_type": "markdown",
   "metadata": {
    "tags": []
   },
   "source": [
    "```bash\n",
    "docker login #Será necessário logar no DockerHub\n",
    "docker push kdop/front-app:0.0.6\n",
    "docker push kdop/back-app:0.0.6\n",
    "docker push kdop/cert-app:0.0.6\n",
    "```"
   ]
  },
  {
   "cell_type": "markdown",
   "metadata": {},
   "source": [
    "3. Excluindo Imagem local\n",
    "\n",
    "    Após subir a imagem para o repositório, podemos excluí-las.\n",
    "\n",
    "    3.1 Consular as imagens local"
   ]
  },
  {
   "cell_type": "markdown",
   "metadata": {
    "tags": []
   },
   "source": [
    "```bash\n",
    "docker images\n",
    "\n",
    "REPOSITORY          TAG                 IMAGE ID            CREATED              SIZE\n",
    "kdop/cert-app       0.0.6               779827e6f3a7        18 seconds ago       360MB\n",
    "kdop/back-app       0.0.6               2aea3cd53892        About a minute ago   359MB\n",
    "kdop/front-app      0.0.6               1698f53c5bed        About a minute ago   365MB\n",
    "```"
   ]
  },
  {
   "cell_type": "markdown",
   "metadata": {},
   "source": [
    "    3.2 Excluir imagem"
   ]
  },
  {
   "cell_type": "markdown",
   "metadata": {},
   "source": [
    "```bash\n",
    "docker rmi 779827e6f3a7 2aea3cd53892 1698f53c5bed -f\n",
    "\n",
    "# Apaga as imagens que coincidem com o filtro\n",
    "docker rmi $(docker images -q --filter=reference='kdop/*:0.0.6')\n",
    "```"
   ]
  },
  {
   "cell_type": "markdown",
   "metadata": {},
   "source": [
    "## Limpando o seu ambiente de docker\n",
    "\n",
    "Limpa Todas as Imagens, Contêineres, Volumes e Redes não Utilizadas ou Pendentes."
   ]
  },
  {
   "cell_type": "markdown",
   "metadata": {},
   "source": [
    "```bash\n",
    "docker container prune -f\n",
    "docker image prune -f\n",
    "docker volume prune -f\n",
    "docker system prune -f\n",
    "```"
   ]
  },
  {
   "cell_type": "markdown",
   "metadata": {},
   "source": [
    "[<img align=\"right\" src=\"media/avancar.png\" width=\"100\"/>](02_Kubernetes.ipynb)\n"
   ]
  }
 ],
 "metadata": {
  "kernelspec": {
   "display_name": "Bash",
   "language": "bash",
   "name": "bash"
  },
  "language_info": {
   "codemirror_mode": "shell",
   "file_extension": ".sh",
   "mimetype": "text/x-sh",
   "name": "bash"
  }
 },
 "nbformat": 4,
 "nbformat_minor": 4
}
