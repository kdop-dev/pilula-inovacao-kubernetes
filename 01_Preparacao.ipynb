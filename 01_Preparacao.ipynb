{
 "cells": [
  {
   "cell_type": "markdown",
   "source": [
    "# O Projeto\n",
    "\n",
    "Para este treinamento, iremos utilizar 3 aplicações desenvolvidas em python. \n",
    "* [front-app](https://github.com/kdop-dev/front-app)\n",
    "* [back-app](https://github.com/kdop-dev/back-app)\n",
    "* [cert-app](https://github.com/kdop-dev/cert-app)\n",
    "\n",
    "O front-app possui integração com o back-app e o cert-app.\n",
    "\n",
    "```\n",
    "╭───────────╮      ╭──────────╮\n",
    "│ front-app ├──────┤ back-app │ \n",
    "╰─────┬─────╯      ╰──────────╯\n",
    "      │            ╭──────────╮\n",
    "      ╰────────────┤ cert-app │ \n",
    "                   ╰──────────╯ \n",
    "```\n",
    "\n",
    "## Baixando o Projeto\n",
    "\n",
    "1. Baixar os projetos do repositório Git"
   ],
   "metadata": {}
  },
  {
   "cell_type": "code",
   "execution_count": 1,
   "source": [
    "mkdir -p ~/work/inovacao\n",
    "cd ~/work/inovacao\n",
    "git clone https://github.com/kdop-dev/front-app.git\n",
    "git clone https://github.com/kdop-dev/back-app.git\n",
    "git clone https://github.com/kdop-dev/cert-app.git"
   ],
   "outputs": [
    {
     "output_type": "stream",
     "name": "stdout",
     "text": [
      "Cloning into 'front-app'...\n",
      "remote: Enumerating objects: 150, done.\u001b[K\n",
      "remote: Counting objects: 100% (150/150), done.\u001b[K\n",
      "remote: Compressing objects: 100% (101/101), done.\u001b[K\n",
      "remote: Total 150 (delta 67), reused 126 (delta 45), pack-reused 0\u001b[K\n",
      "Receiving objects: 100% (150/150), 467.49 KiB | 856.00 KiB/s, done.\n",
      "Resolving deltas: 100% (67/67), done.\n",
      "Cloning into 'back-app'...\n",
      "remote: Enumerating objects: 87, done.\u001b[K\n",
      "remote: Counting objects: 100% (87/87), done.\u001b[K\n",
      "remote: Compressing objects: 100% (61/61), done.\u001b[K\n",
      "remote: Total 87 (delta 29), reused 80 (delta 22), pack-reused 0\u001b[K\n",
      "Unpacking objects: 100% (87/87), 460.47 KiB | 314.00 KiB/s, done.\n",
      "Cloning into 'cert-app'...\n",
      "remote: Enumerating objects: 143, done.\u001b[K\n",
      "remote: Counting objects: 100% (143/143), done.\u001b[K\n",
      "remote: Compressing objects: 100% (98/98), done.\u001b[K\n",
      "remote: Total 143 (delta 62), reused 120 (delta 39), pack-reused 0\u001b[K\n",
      "Receiving objects: 100% (143/143), 466.56 KiB | 911.00 KiB/s, done.\n",
      "Resolving deltas: 100% (62/62), done.\n"
     ]
    }
   ],
   "metadata": {}
  },
  {
   "cell_type": "markdown",
   "source": [
    "2. Definindo um nome para o Namespace"
   ],
   "metadata": {}
  },
  {
   "cell_type": "code",
   "execution_count": 2,
   "source": [
    "export myNamespace=kdop-learn\n",
    "sh ~/sh/change.sh"
   ],
   "outputs": [
    {
     "output_type": "stream",
     "name": "stdout",
     "text": [
      "/home/jovyan/work/inovacao\n"
     ]
    }
   ],
   "metadata": {
    "tags": []
   }
  },
  {
   "cell_type": "markdown",
   "source": [
    "## Preparando a Imagem\n",
    "\n",
    "Dentro de cada projeto, temos basicamente a estrutura de pastas abaixo. \n",
    "\n",
    "```\n",
    "front-app/\n",
    "├── front-app/    \n",
    "│   ├── app/ \n",
    "│   ├── Dockerfile\n",
    "│   └── requirements.txt\n",
    "└── helm/\n",
    "    └── front-app/\n",
    "        ├── templates/\n",
    "        ├── Chart.yaml\n",
    "        └── values.yaml\n",
    "```\n",
    "\n",
    "Para a geração da imagem, vamos utilizar o arquivo [Dockerfile](https://github.com/kdop-dev/front-app/blob/master/front-app/Dockerfile)\n",
    "\n",
    "1. Gerando a imagem"
   ],
   "metadata": {}
  },
  {
   "cell_type": "markdown",
   "source": [
    "```bash\n",
    "docker build -t kdop/front-app:0.0.5 front-app/front-app\n",
    "docker build -t kdop/back-app:0.0.3 back-app/back-app\n",
    "docker build -t kdop/cert-app:0.0.5 cert-app/cert-app\n",
    "```"
   ],
   "metadata": {
    "tags": []
   }
  },
  {
   "cell_type": "markdown",
   "source": [
    "2. Subindo a imagem para o Repositório [DockerHub](https://hub.docker.com/)\n",
    "\n",
    "    Após a geração das imagens, elas ficarão disponíveis localmente. Para nosso cluster k8s ter acesso as imagens, será necessário disponibilizá-las em algum repositório."
   ],
   "metadata": {}
  },
  {
   "cell_type": "markdown",
   "source": [
    "```bash\n",
    "docker login #Será necessário logar no DockerHub\n",
    "docker push kdop/front-app:0.0.5\n",
    "docker push kdop/back-app:0.0.3\n",
    "docker push kdop/cert-app:0.0.5\n",
    "```"
   ],
   "metadata": {
    "tags": []
   }
  },
  {
   "cell_type": "markdown",
   "source": [
    "3. Excluindo Imagem local\n",
    "\n",
    "    Após subir a imagem para o repositório, podemos excluí-las.\n",
    "\n",
    "    3.1 Consular as imagens local"
   ],
   "metadata": {}
  },
  {
   "cell_type": "markdown",
   "source": [
    "```bash\n",
    "docker images\n",
    "\n",
    "REPOSITORY          TAG                 IMAGE ID            CREATED              SIZE\n",
    "kdop/cert-app       0.0.5               779827e6f3a7        18 seconds ago       360MB\n",
    "kdop/back-app       0.0.3               2aea3cd53892        About a minute ago   359MB\n",
    "kdop/front-app      0.0.5               1698f53c5bed        About a minute ago   365MB\n",
    "python              3-alpine            0f03316d4a27        2 weeks ago          42.7MB\n",
    "```"
   ],
   "metadata": {
    "tags": []
   }
  },
  {
   "cell_type": "markdown",
   "source": [
    "    3.2 Excluir imagem"
   ],
   "metadata": {}
  },
  {
   "cell_type": "markdown",
   "source": [
    "```bash\n",
    "docker rmi 779827e6f3a7 2aea3cd53892 1698f53c5bed -f\n",
    "\n",
    "# Apaga as imagens que coincidem com o filtro\n",
    "docker rmi $(docker images -q --filter=reference='kdop/*:0.0.5')\n",
    "```"
   ],
   "metadata": {}
  },
  {
   "cell_type": "markdown",
   "source": [
    "## Limpando o seu ambiente de docker\n",
    "\n",
    "Limpa Todas as Imagens, Contêineres, Volumes e Redes não Utilizadas ou Pendentes."
   ],
   "metadata": {}
  },
  {
   "cell_type": "markdown",
   "source": [
    "```bash\n",
    "docker container prune -f\n",
    "docker image prune -f\n",
    "docker volume prune -f\n",
    "docker system prune -f\n",
    "```"
   ],
   "metadata": {}
  },
  {
   "cell_type": "markdown",
   "source": [
    "[<img align=\"right\" src=\"media/avancar.png\" width=\"100\"/>](02_Kubernetes.ipynb)\n"
   ],
   "metadata": {}
  }
 ],
 "metadata": {
  "kernelspec": {
   "display_name": "Bash",
   "language": "bash",
   "name": "bash"
  },
  "language_info": {
   "codemirror_mode": "shell",
   "file_extension": ".sh",
   "mimetype": "text/x-sh",
   "name": "bash"
  }
 },
 "nbformat": 4,
 "nbformat_minor": 4
}