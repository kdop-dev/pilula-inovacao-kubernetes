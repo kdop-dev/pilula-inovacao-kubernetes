{
 "cells": [
  {
   "cell_type": "markdown",
   "source": [
    "# [Helm](https://helm.sh/docs/)\n",
    "\n",
    "Helm é o gerenciador de pacotes do Kubernetes.\n",
    "\n",
    "Para uma lista parcial dos pacotes disponíveis acesse: <https://github.com/helm/charts/tree/master/stable>\n",
    "\n",
    "Já vimos como criar cada recurso separadamente. O Helm realiza a gestão dos recursos (ns, deploy, svc, ...) desta forma, com apenas um comando, podemos implantar, alterar e excluir todo nosso projeto."
   ],
   "metadata": {}
  },
  {
   "cell_type": "code",
   "execution_count": null,
   "source": [
    "helm version"
   ],
   "outputs": [],
   "metadata": {}
  },
  {
   "cell_type": "markdown",
   "source": [
    "Para criar o helm, executamos o comando abaixo:  \n",
    "\n",
    "```\n",
    "helm create <nome-aplicacao>\n",
    "```\n",
    "\n",
    "Este comando irá criar a estrutura abaixo:\n",
    "```\n",
    "<nome-aplicacao>/\n",
    "├── Chart.yaml      # Informações Técnicas\n",
    "├── values.yaml     # Variáveis e Valores\n",
    "└── templates/      # Modelos de Deployments, Services e todos outros recursos\n",
    "```\n",
    "\n",
    "[Helm do projeto front-app](https://github.com/kdop-dev/front-app/tree/master/helm/front-app)"
   ],
   "metadata": {}
  },
  {
   "cell_type": "markdown",
   "source": [
    "## Preparando o acesso ao Ambiente"
   ],
   "metadata": {}
  },
  {
   "cell_type": "code",
   "execution_count": null,
   "source": [
    "export KUBECONFIG=~/work/kubeconfig\n",
    "export myNamespace=kdop-learn\n",
    "cd ~/work/inovacao\n",
    "echo $PWD"
   ],
   "outputs": [],
   "metadata": {}
  },
  {
   "cell_type": "markdown",
   "source": [
    "## Projeto front-app\n",
    "\n",
    "1. Publicando o Projeto front-app\n",
    "\n",
    "    Para a publicar a aplicação via helm, podemos utilizar duas formas:\n",
    "    * **helm install** - Comando para publicação da aplicação.\n",
    "    * **helm upgrade** - Comando para atualização da aplicação. Passando o parâmetro **--install** ele publica a aplicação, caso não exista."
   ],
   "metadata": {}
  },
  {
   "cell_type": "code",
   "execution_count": null,
   "source": [
    "# Vamos verificar o nosso namespace\n",
    "echo $myNamespace"
   ],
   "outputs": [],
   "metadata": {}
  },
  {
   "cell_type": "markdown",
   "source": [
    "O helm é uma aplicação de template que combina as váriáveis do arquivo value.yaml e os arquivos de configuração (templates) e cria uma configuração para o kubernetes,"
   ],
   "metadata": {}
  },
  {
   "cell_type": "code",
   "execution_count": null,
   "source": [
    "helm template --namespace $myNamespace front-app ~/work/inovacao/front-app/helm/front-app"
   ],
   "outputs": [],
   "metadata": {}
  },
  {
   "cell_type": "markdown",
   "source": [
    "Agora vamos instalar a aplicação."
   ],
   "metadata": {}
  },
  {
   "cell_type": "code",
   "execution_count": null,
   "source": [
    "#helm install --namespace $myNamespace --create-namespace front-app front-app/helm/front-app\n",
    "helm upgrade --install --namespace $myNamespace --create-namespace front-app ~/work/inovacao/front-app/helm/front-app"
   ],
   "outputs": [],
   "metadata": {
    "tags": []
   }
  },
  {
   "cell_type": "markdown",
   "source": [
    "Vamos também modificar o arquivo [values.yaml](work/inovacao/front-app/helm/front-app/values.yaml) para ajustar o caminho da nossa URL.\n",
    "\n",
    "> Você pode criar um outro arquivo de valores e sobreescrever os valores padrão do arquivo `values.yaml` da aplicação, basta copiá-lo e manter apenas as variáveis que serão modificadas. Para usá-lo passe a opção `-f my-values.yaml` no comando `helm install` ou `helm upgrade` Esta é a forma mais comun de customização dos helm charts."
   ],
   "metadata": {}
  },
  {
   "cell_type": "markdown",
   "source": [
    "2. Listando os helms do namespace"
   ],
   "metadata": {}
  },
  {
   "cell_type": "code",
   "execution_count": null,
   "source": [
    "helm list --namespace $myNamespace"
   ],
   "outputs": [],
   "metadata": {}
  },
  {
   "cell_type": "markdown",
   "source": [
    "3. Consultando os recursos do namespace"
   ],
   "metadata": {}
  },
  {
   "cell_type": "code",
   "execution_count": null,
   "source": [
    "kubectl get all -n $myNamespace"
   ],
   "outputs": [],
   "metadata": {}
  },
  {
   "cell_type": "code",
   "execution_count": null,
   "source": [
    "kubectl get pods -n $myNamespace"
   ],
   "outputs": [],
   "metadata": {}
  },
  {
   "cell_type": "markdown",
   "source": [
    "4. Verificando o problema no POD"
   ],
   "metadata": {}
  },
  {
   "cell_type": "code",
   "execution_count": null,
   "source": [
    "kubectl describe pod/front-app-76789b56bf-94mdq -n $myNamespace "
   ],
   "outputs": [],
   "metadata": {}
  },
  {
   "cell_type": "markdown",
   "source": [
    "Configuração do deployment da aplicação em [deployment.yaml](work/inovacao/front-app/helm/front-app/templates/deployment.yaml).\n",
    "\n",
    "* O POD necessita da aplicação back-app para poder ser executada.\n",
    "  * **livenessProbe**: Verifica a saúde do container. Somente se o container estiver em saudável, o POD entrará em execução.    \n",
    "```yaml\n",
    "        livenessProbe:\n",
    "            httpGet:\n",
    "              path: /health\n",
    "              port: http\n",
    "            initialDelaySeconds: 3 # Tempo para realizar a primeira validação\n",
    "            periodSeconds: 10      # Tempo em que será realizada a sondagem da atividade.\n",
    "```\n",
    "  </br>\n",
    "  * **readinessProbe**: Indica se o contêiner está pronto para atender às solicitações. Se a análise de prontidão falhar, o controlador de terminais removerá o endereço IP do Pod dos terminais de todos os Serviços que correspondem ao Pod. \n",
    "```yaml\n",
    "        readinessProbe:\n",
    "            httpGet:\n",
    "              path: /health\n",
    "              port: http\n",
    "            initialDelaySeconds: 3 # Tempo para realizar a primeira validação\n",
    "            periodSeconds: 10      # Tempo em que será realizada a sondagem da atividade.\n",
    "```\n",
    "  </br>\n",
    "  * **startupProbe**: Indica se o aplicativo no contêiner foi iniciado. Todas as outras análises serão desativadas se uma sonda de inicialização for fornecida, até que seja bem-sucedida. Se a sonda de inicialização falhar, o kubelet matará o Container e o Container será sujeita à sua política de reinicialização.\n",
    "```yaml\n",
    "        startupProbe:\n",
    "            httpGet:\n",
    "              path: /health\n",
    "              port: http\n",
    "            initialDelaySeconds: 3 # Tempo para realizar a primeira validação\n",
    "            periodSeconds: 10      # Tempo em que será realizada a sondagem da atividade.\n",
    "```\n",
    "</br>\n",
    "    Pode-se verificar a saúde do POD de 3 formas:  </br>\n",
    "    1. executar um comando dentro de um contêiner   </br>    \n",
    "    2. fazer uma solicitação HTTP em um contêiner  </br>\n",
    "    (Código maior ou igual a 200 e menor que 400 indica sucesso. Qualquer outro código indica falha.) </br>\n",
    "    3. abrir um soquete TCP em um contêiner.\n",
    "\n",
    "Para mais informações consulte: [Configure Liveness, Readiness and Startup Probes](https://kubernetes.io/docs/tasks/configure-pod-container/configure-liveness-readiness-startup-probes/) e [Pod Lifecycle](https://kubernetes.io/docs/concepts/workloads/pods/pod-lifecycle/)\n"
   ],
   "metadata": {}
  },
  {
   "cell_type": "markdown",
   "source": [
    "### URLs da aplicação:"
   ],
   "metadata": {}
  },
  {
   "cell_type": "code",
   "execution_count": 27,
   "source": [
    "echo http://learn.kdop.net/$myNamespace/front-app/index"
   ],
   "outputs": [
    {
     "output_type": "stream",
     "name": "stdout",
     "text": [
      "http://learn.kdop.net/kdop-learn/front-app/index\n"
     ]
    }
   ],
   "metadata": {}
  },
  {
   "cell_type": "markdown",
   "source": [
    "### Como as requisições chegam aos containers?\n",
    "\n",
    "Existem algumas alternativas para expor nossa aplicação utilizando [serviços](https://kubernetes.io/docs/concepts/services-networking/service/), tais como ClusterIP, LoadBalancer, NodePort, ExternalName. O Ingress não é um serviço é uma configuração para uma aplicação (ingress controller) direcionar o tráfego para o nosso serviço.\n",
    "\n",
    "![](media/nginx-ingress.png)\n",
    "\n",
    "Fonte para os ícones: <https://github.com/kubernetes/community/tree/master/icons>\n",
    "\n",
    "No namespace ingress-nginx está instalado o Ingress Controller, ele é um [Servidor Web Nginx](https://github.com/nginxinc/kubernetes-ingress) modificado e integrado com o kubernetes. Existem outros Ingress Controller, para uma lista mais extensiva acesse [Kubernetes Ingress Controller Overview](https://medium.com/swlh/kubernetes-ingress-controller-overview-81abbaca19ec).\n",
    "\n",
    "#### Ingress\n",
    "\n",
    "Como configuramos o nosso ingress? Isso depende de como queremos que ele seja acessado, novamente existem várias opções, as mais comuns são:\n",
    "\n",
    "* Domínio: front-app.com\n",
    "* Subdominio: front-app.kdop.net\n",
    "* Caminho: kdop.net/front-app\n",
    "\n",
    "Para esta aplicação configuramos a terceira opção. Vamos abrir os arquivos [values.yaml](work/inovacao/front-app/helm/front-app/values.yaml) e [ingress.yaml](work/inovacao/front-app/helm/front-app/templates/ingress.yaml) para entender como foi configurado.\n",
    "\n",
    "```yaml\n",
    "service:\n",
    "  type: ClusterIP\n",
    "  port: 5000\n",
    "\n",
    "ingress:\n",
    "  enabled: true\n",
    "  annotations:\n",
    "    nginx.ingress.kubernetes.io/rewrite-target: /$2\n",
    "  hosts:\n",
    "    - host: learn.kdop.net\n",
    "      paths:\n",
    "      - /adsantos/front-app(/|$)(.*)\n",
    "  tls: []\n",
    "```\n",
    "\n",
    "Esses parâmetros, quando aplicados pelo helm aos templates de serviço e ingress irão criar a seguinte configuração:\n",
    "\n",
    "```yaml\n",
    "---\n",
    "# Source: front-app/templates/service.yaml\n",
    "apiVersion: v1\n",
    "kind: Service\n",
    "metadata:\n",
    "  name: front-app\n",
    "  labels:\n",
    "    helm.sh/chart: front-app-0.1.0\n",
    "    app.kubernetes.io/name: front-app\n",
    "    app.kubernetes.io/instance: front-app\n",
    "    app.kubernetes.io/version: \"1.16.0\"\n",
    "    app.kubernetes.io/managed-by: Helm\n",
    "spec:\n",
    "  type: ClusterIP\n",
    "  ports:\n",
    "    - port: 5000\n",
    "      targetPort: http\n",
    "      protocol: TCP\n",
    "      name: http\n",
    "  selector:\n",
    "    app.kubernetes.io/name: front-app\n",
    "    app.kubernetes.io/instance: front-app\n",
    "---\n",
    "# Source: front-app/templates/ingress.yaml\n",
    "apiVersion: networking.k8s.io/v1beta1\n",
    "kind: Ingress\n",
    "metadata:\n",
    "  name: front-app\n",
    "  labels:\n",
    "    helm.sh/chart: front-app-0.1.0\n",
    "    app.kubernetes.io/name: front-app\n",
    "    app.kubernetes.io/instance: front-app\n",
    "    app.kubernetes.io/version: \"1.16.0\"\n",
    "    app.kubernetes.io/managed-by: Helm\n",
    "  annotations:\n",
    "    nginx.ingress.kubernetes.io/rewrite-target: /$2\n",
    "spec:\n",
    "  rules:\n",
    "    - host: \"learn.kdop.net\"\n",
    "      http:\n",
    "        paths:\n",
    "          - path: /kdop-learn/front-app(/|$)(.*)\n",
    "            backend:\n",
    "              serviceName: front-app\n",
    "              servicePort: 5000\n",
    "    - host: \"kdop-learn.krthomolog.com.br\"\n",
    "      http:\n",
    "        paths:\n",
    "          - path: /kdop-learn/front-app(/|$)(.*)\n",
    "            backend:\n",
    "              serviceName: front-app\n",
    "              servicePort: 5000\n",
    "```\n",
    "\n",
    "> Você pode imprimir o que será criado pelo helm com o comando `helm template` no lugar de `helm install`.\n",
    "\n",
    "> Sobre TLS ver [README-ingresss-with-tls.md](README-ingresss-with-tls.md).\n",
    "\n",
    "Um serviço do tipo **ClusterIP** foi criado e seu seletor são os PODs com labels `app.kubernetes.io/name` e `app.kubernetes.io/instance` com o valor `front-app`. Não importa quantas réplicas existirem, o serviço irá direcionar o tráfego, na forma de _round-robin_, para cada uma delas.\n",
    "\n",
    "Mas _ClusterIP_ é um tipo de serviço que só é visível dentro do cluster, pode ser referênciado pelos containers através do seu nome e porta, neste caso `ping front-app` resultaria no retorno do IP associado ao serviço e `telnet front-app 5000` em uma conexão de sucesso.\n",
    "\n",
    "Para acessar os containers de fora do cluster foi criado uma configuração tipo Ingress, nela foi definido a configuração do frontend que deverá direcionar o tráfego para o backend. Neste cenário, a URL que irá direcionar o tráfego para os nossos containers é http://learn.kdop.net/adsantos/front-app e qualquer caminhos e parâmetros adicionais serão repassados para os nossos containers na forma http://front-app:5000/<o resto da url>."
   ],
   "metadata": {}
  },
  {
   "cell_type": "code",
   "execution_count": null,
   "source": [
    "kubectl describe ingress -n $myNamespace"
   ],
   "outputs": [],
   "metadata": {}
  },
  {
   "cell_type": "markdown",
   "source": [
    "Mas para essa configuração funcionar é necessário que um Ingress-Controller esteja instalado e lendo o seu namespace a procura desse tipo de configuração.\n",
    "    \n",
    "Neste cluster, o Ingress-Controller instalado é o Nginx, um servidor de web, que funciona como proxy, com um LoadBalancer externo direcionando o tráfego."
   ],
   "metadata": {}
  },
  {
   "cell_type": "markdown",
   "source": [
    "#### Ingress controller"
   ],
   "metadata": {}
  },
  {
   "cell_type": "code",
   "execution_count": null,
   "source": [
    "kubectl get all -n ingress-nginx"
   ],
   "outputs": [],
   "metadata": {}
  },
  {
   "cell_type": "markdown",
   "source": [
    "O serviço `ingress-nginx-controller` é do tipo **LoadBalancer** e seu endereço externo foi configurado em um DNS (AWS Route 53) para apontar para o seu IP."
   ],
   "metadata": {}
  },
  {
   "cell_type": "code",
   "execution_count": null,
   "source": [
    "kubectl describe service/ingress-nginx-controller -n ingress-nginx"
   ],
   "outputs": [],
   "metadata": {}
  },
  {
   "cell_type": "markdown",
   "source": [
    "Aqui você pode obter o IP do Ingress-Controller e a quais portas ele esta associado, neste caso 80 (http) e 443 (https).\n",
    "\n",
    "Vamos olhar o deployment do ingress controller para entender como o certificado foi associado."
   ],
   "metadata": {}
  },
  {
   "cell_type": "code",
   "execution_count": null,
   "source": [
    "kubectl get deployment.apps/ingress-nginx-controller -n ingress-nginx -o yaml"
   ],
   "outputs": [],
   "metadata": {}
  },
  {
   "cell_type": "markdown",
   "source": [
    "E o secret contém o certificado (base 64)."
   ],
   "metadata": {}
  },
  {
   "cell_type": "code",
   "execution_count": null,
   "source": [
    "kubectl describe secret/krthomolog-secret -n ingress-nginx"
   ],
   "outputs": [],
   "metadata": {}
  },
  {
   "cell_type": "markdown",
   "source": [
    "Para mais informações: <https://kubernetes.github.io/ingress-nginx/user-guide/tls/>"
   ],
   "metadata": {}
  },
  {
   "cell_type": "markdown",
   "source": [
    "[<img align=\"left\" src=\"media/voltar.png\" width=\"100\"/>](02_Kubernetes.ipynb) [<img align=\"right\" src=\"media/avancar.png\" width=\"100\"/>](04_Back.ipynb)\n"
   ],
   "metadata": {}
  }
 ],
 "metadata": {
  "kernelspec": {
   "display_name": "Bash",
   "language": "bash",
   "name": "python3612jvsc74a57bd00e84caf21e6a8d71ae6b54db6eaae5de9e5fb306122836be7d1d6e53d8b4f867"
  },
  "language_info": {
   "codemirror_mode": "shell",
   "file_extension": ".sh",
   "mimetype": "text/x-sh",
   "name": "bash"
  }
 },
 "nbformat": 4,
 "nbformat_minor": 4
}