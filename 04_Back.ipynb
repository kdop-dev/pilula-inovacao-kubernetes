{
 "cells": [
  {
   "cell_type": "markdown",
   "source": [
    "# Projeto back-app"
   ],
   "metadata": {}
  },
  {
   "cell_type": "markdown",
   "source": [
    "## Preparando o acesso ao Ambiente"
   ],
   "metadata": {}
  },
  {
   "cell_type": "code",
   "execution_count": null,
   "source": [
    "export KUBECONFIG=~/work/kubeconfig\n",
    "export myNamespace=kdop-learn\n",
    "cd ~/work/inovacao\n",
    "echo $PWD"
   ],
   "outputs": [],
   "metadata": {}
  },
  {
   "cell_type": "markdown",
   "source": [
    "1. Publicando o Projeto back-app"
   ],
   "metadata": {}
  },
  {
   "cell_type": "code",
   "execution_count": null,
   "source": [
    "helm upgrade --install --namespace $myNamespace --create-namespace back-app ~/work/inovacao/back-app/helm/back-app"
   ],
   "outputs": [],
   "metadata": {}
  },
  {
   "cell_type": "markdown",
   "source": [
    "2. Consultando os recursos do namespace"
   ],
   "metadata": {}
  },
  {
   "cell_type": "code",
   "execution_count": null,
   "source": [
    "kubectl get all -n $myNamespace"
   ],
   "outputs": [],
   "metadata": {}
  },
  {
   "cell_type": "code",
   "execution_count": 27,
   "source": [
    "# Estendendo as informações sobre os recursos\n",
    "kubectl get pods -o wide"
   ],
   "outputs": [
    {
     "output_type": "stream",
     "name": "stdout",
     "text": [
      "NAME                         READY   STATUS    RESTARTS   AGE   IP             NODE                                NOMINATED NODE   READINESS GATES\n",
      "back-app-6d46745ffc-g2zkc    1/1     Running   0          84m   10.240.0.10    aks-agentpool-65799894-vmss00000h   <none>           <none>\n",
      "cert-app-657b767888-bt5pr    1/1     Running   0          60m   10.240.0.13    aks-agentpool-65799894-vmss00000h   <none>           <none>\n",
      "cert-app-657b767888-knbm8    1/1     Running   0          16m   10.240.0.105   aks-agentpool-65799894-vmss00000h   <none>           <none>\n",
      "front-app-76789b56bf-9gvwf   1/1     Running   0          82m   10.240.0.87    aks-agentpool-65799894-vmss00000h   <none>           <none>\n"
     ]
    }
   ],
   "metadata": {}
  },
  {
   "cell_type": "code",
   "execution_count": 28,
   "source": [
    "kubectl get pods --show-labels"
   ],
   "outputs": [
    {
     "output_type": "stream",
     "name": "stdout",
     "text": [
      "NAME                         READY   STATUS    RESTARTS   AGE    LABELS\n",
      "back-app-6d46745ffc-g2zkc    1/1     Running   0          137m   app.kubernetes.io/instance=back-app,app.kubernetes.io/name=back-app,pod-template-hash=6d46745ffc\n",
      "cert-app-657b767888-bt5pr    1/1     Running   0          113m   app.kubernetes.io/instance=cert-app,app.kubernetes.io/name=cert-app,pod-template-hash=657b767888\n",
      "cert-app-657b767888-knbm8    1/1     Running   0          68m    app.kubernetes.io/instance=cert-app,app.kubernetes.io/name=cert-app,pod-template-hash=657b767888\n",
      "front-app-76789b56bf-9gvwf   1/1     Running   0          135m   app.kubernetes.io/instance=front-app,app.kubernetes.io/name=front-app,pod-template-hash=76789b56bf\n"
     ]
    }
   ],
   "metadata": {}
  },
  {
   "cell_type": "code",
   "execution_count": 48,
   "source": [
    "kubectl get pod -l app.kubernetes.io/name=front-app"
   ],
   "outputs": [
    {
     "output_type": "stream",
     "name": "stdout",
     "text": [
      "NAME                         READY   STATUS    RESTARTS   AGE\n",
      "front-app-76789b56bf-9gvwf   1/1     Running   0          154m\n"
     ]
    }
   ],
   "metadata": {}
  },
  {
   "cell_type": "code",
   "execution_count": 47,
   "source": [
    "kubectl describe pod -l app.kubernetes.io/name=front-app"
   ],
   "outputs": [
    {
     "output_type": "stream",
     "name": "stdout",
     "text": [
      "Name:         front-app-76789b56bf-9gvwf\n",
      "Namespace:    kdop-learn\n",
      "Priority:     0\n",
      "Node:         aks-agentpool-65799894-vmss00000h/10.240.0.4\n",
      "Start Time:   Mon, 09 Aug 2021 19:29:26 +0000\n",
      "Labels:       app.kubernetes.io/instance=front-app\n",
      "              app.kubernetes.io/name=front-app\n",
      "              pod-template-hash=76789b56bf\n",
      "Annotations:  <none>\n",
      "Status:       Running\n",
      "IP:           10.240.0.87\n",
      "IPs:\n",
      "  IP:           10.240.0.87\n",
      "Controlled By:  ReplicaSet/front-app-76789b56bf\n",
      "Containers:\n",
      "  front-app:\n",
      "    Container ID:   containerd://350ec836d46e47b86b3d29088d7e3546fe0544eb2254feaac26ccd29fcdb496e\n",
      "    Image:          kdop/front-app:0.0.5\n",
      "    Image ID:       docker.io/kdop/front-app@sha256:7eadf38a58d62aef00e97234fda9ecfbaced421c569eda9b088cf50d05c2930c\n",
      "    Port:           5000/TCP\n",
      "    Host Port:      0/TCP\n",
      "    State:          Running\n",
      "      Started:      Mon, 09 Aug 2021 19:29:28 +0000\n",
      "    Ready:          True\n",
      "    Restart Count:  0\n",
      "    Limits:\n",
      "      cpu:     50m\n",
      "      memory:  128Mi\n",
      "    Requests:\n",
      "      cpu:      10m\n",
      "      memory:   96Mi\n",
      "    Liveness:   http-get http://:http/health delay=0s timeout=1s period=10s #success=1 #failure=3\n",
      "    Readiness:  http-get http://:http/health delay=0s timeout=1s period=10s #success=1 #failure=3\n",
      "    Environment:\n",
      "      URL_BACK:  <set to the key 'URL_BACK' of config map 'front-app'>  Optional: false\n",
      "      URL_CERT:  <set to the key 'URL_CERT' of config map 'front-app'>  Optional: false\n",
      "      ambiente:  <set to the key 'ambiente' of config map 'front-app'>  Optional: false\n",
      "    Mounts:\n",
      "      /var/run/secrets/kubernetes.io/serviceaccount from front-app-token-5knfv (ro)\n",
      "Conditions:\n",
      "  Type              Status\n",
      "  Initialized       True \n",
      "  Ready             True \n",
      "  ContainersReady   True \n",
      "  PodScheduled      True \n",
      "Volumes:\n",
      "  front-app-token-5knfv:\n",
      "    Type:        Secret (a volume populated by a Secret)\n",
      "    SecretName:  front-app-token-5knfv\n",
      "    Optional:    false\n",
      "QoS Class:       Burstable\n",
      "Node-Selectors:  <none>\n",
      "Tolerations:     node.kubernetes.io/memory-pressure:NoSchedule op=Exists\n",
      "                 node.kubernetes.io/not-ready:NoExecute op=Exists for 300s\n",
      "                 node.kubernetes.io/unreachable:NoExecute op=Exists for 300s\n",
      "Events:          <none>\n"
     ]
    }
   ],
   "metadata": {}
  },
  {
   "cell_type": "code",
   "execution_count": 38,
   "source": [
    "kubectl logs -l 'app.kubernetes.io/name=front-app' --all-containers"
   ],
   "outputs": [
    {
     "output_type": "stream",
     "name": "stdout",
     "text": [
      "[pid: 10|app: 0|req: 282/1768] 10.240.0.4 () {30 vars in 351 bytes} [Mon Aug  9 21:55:57 2021] GET /health => generated 31 bytes in 4 msecs (HTTP/1.1 200) 2 headers in 79 bytes (1 switches on core 0)\n",
      "[pid: 11|app: 0|req: 769/1769] 10.240.0.4 () {30 vars in 351 bytes} [Mon Aug  9 21:55:59 2021] GET /health => generated 31 bytes in 3 msecs (HTTP/1.1 200) 2 headers in 79 bytes (1 switches on core 0)\n",
      "[pid: 9|app: 0|req: 264/1770] 10.240.0.4 () {30 vars in 351 bytes} [Mon Aug  9 21:56:07 2021] GET /health => generated 31 bytes in 4 msecs (HTTP/1.1 200) 2 headers in 79 bytes (1 switches on core 0)\n",
      "[pid: 11|app: 0|req: 770/1771] 10.240.0.4 () {30 vars in 351 bytes} [Mon Aug  9 21:56:09 2021] GET /health => generated 31 bytes in 4 msecs (HTTP/1.1 200) 2 headers in 79 bytes (1 switches on core 0)\n",
      "[pid: 8|app: 0|req: 239/1772] 10.240.0.4 () {30 vars in 351 bytes} [Mon Aug  9 21:56:17 2021] GET /health => generated 31 bytes in 4 msecs (HTTP/1.1 200) 2 headers in 79 bytes (1 switches on core 0)\n",
      "[pid: 9|app: 0|req: 265/1773] 10.240.0.4 () {30 vars in 350 bytes} [Mon Aug  9 21:56:19 2021] GET /health => generated 31 bytes in 4 msecs (HTTP/1.1 200) 2 headers in 79 bytes (1 switches on core 0)\n",
      "[pid: 11|app: 0|req: 771/1774] 10.240.0.4 () {30 vars in 351 bytes} [Mon Aug  9 21:56:27 2021] GET /health => generated 31 bytes in 4 msecs (HTTP/1.1 200) 2 headers in 79 bytes (1 switches on core 0)\n",
      "[pid: 10|app: 0|req: 283/1775] 10.240.0.4 () {30 vars in 351 bytes} [Mon Aug  9 21:56:29 2021] GET /health => generated 31 bytes in 4 msecs (HTTP/1.1 200) 2 headers in 79 bytes (1 switches on core 0)\n",
      "[pid: 7|app: 0|req: 218/1776] 10.240.0.4 () {30 vars in 350 bytes} [Mon Aug  9 21:56:37 2021] GET /health => generated 31 bytes in 3 msecs (HTTP/1.1 200) 2 headers in 79 bytes (1 switches on core 0)\n",
      "[pid: 8|app: 0|req: 240/1777] 10.240.0.4 () {30 vars in 351 bytes} [Mon Aug  9 21:56:39 2021] GET /health => generated 31 bytes in 5 msecs (HTTP/1.1 200) 2 headers in 79 bytes (1 switches on core 0)\n"
     ]
    }
   ],
   "metadata": {}
  },
  {
   "cell_type": "markdown",
   "source": [
    "3. Validando o Serviço\n",
    "\n",
    "    Para acessar o back-app fora do Cluster, necessitamos expor temporariamente o serviço\n",
    "    \n",
    "    Abra um terminal e execute o comando abaixo\n",
    "```bash\n",
    "export KUBECONFIG=~/kubeconfig\n",
    "kubectl port-forward svc/back-app 8080:5000 -n default \n",
    "```"
   ],
   "metadata": {}
  },
  {
   "cell_type": "code",
   "execution_count": null,
   "source": [
    "curl http://localhost:8080/health"
   ],
   "outputs": [],
   "metadata": {}
  },
  {
   "cell_type": "code",
   "execution_count": 44,
   "source": [
    "# Alternativas para executar comandos em um pod\n",
    "kubectl exec svc/front-app -- curl -s http://localhost:5000/health"
   ],
   "outputs": [
    {
     "output_type": "stream",
     "name": "stdout",
     "text": [
      "Front-app in ns kdop-learn: Ok!"
     ]
    }
   ],
   "metadata": {}
  },
  {
   "cell_type": "code",
   "execution_count": 45,
   "source": [
    "kubectl exec deploy/front-app -- curl -s http://localhost:5000/health"
   ],
   "outputs": [
    {
     "output_type": "stream",
     "name": "stdout",
     "text": [
      "Front-app in ns kdop-learn: Ok!"
     ]
    }
   ],
   "metadata": {}
  },
  {
   "cell_type": "markdown",
   "source": [
    "Agora que os PODs estão em execução, podemos também validar a aplicação front-app.  \n"
   ],
   "metadata": {}
  },
  {
   "cell_type": "code",
   "execution_count": 26,
   "source": [
    "echo http://learn.kdop.net/$myNamespace/front-app/health\n",
    "echo http://learn.kdop.net/$myNamespace/front-app/index"
   ],
   "outputs": [
    {
     "output_type": "stream",
     "name": "stdout",
     "text": [
      "http://learn.kdop.net/kdop-learn/front-app/health\n",
      "http://learn.kdop.net/kdop-learn/front-app/index\n"
     ]
    }
   ],
   "metadata": {}
  },
  {
   "cell_type": "markdown",
   "source": [
    "### ConfigMap\n",
    "\n",
    "Como o front-app acessa o back-app?"
   ],
   "metadata": {}
  },
  {
   "cell_type": "code",
   "execution_count": null,
   "source": [
    "kubectl describe cm/front-app -n $myNamespace"
   ],
   "outputs": [],
   "metadata": {}
  },
  {
   "cell_type": "markdown",
   "source": [
    "### HPA\n",
    "\n",
    "```yaml\n",
    "apiVersion: autoscaling/v2beta1\n",
    "kind: HorizontalPodAutoscaler\n",
    "metadata:\n",
    "  name: back-app\n",
    "  labels:\n",
    "    back-app\n",
    "spec:\n",
    "  scaleTargetRef:\n",
    "    apiVersion: apps/v1\n",
    "    kind: Deployment\n",
    "    name: back-app\n",
    "  minReplicas: 1\n",
    "  maxReplicas: 3\n",
    "  metrics:\n",
    "    - type: Resource\n",
    "      resource:\n",
    "        name: cpu\n",
    "        targetAverageUtilization: 80\n",
    "    - type: Resource\n",
    "      resource:\n",
    "        name: memory\n",
    "        targetAverageUtilization: 80\n",
    "```"
   ],
   "metadata": {}
  },
  {
   "cell_type": "code",
   "execution_count": null,
   "source": [
    "kubectl get hpa -n $myNamespace"
   ],
   "outputs": [],
   "metadata": {}
  },
  {
   "cell_type": "markdown",
   "source": [
    "### Volumes\n",
    "\n",
    "O conceito de volume para PODs é o mesmo que para máquinas VM ou físicas, é uma área de armazenamento que será montada em um diretório ou em uma letra (windows).\n",
    "\n",
    "![](media/aks-storage.png)\n",
    "\n",
    "Fonte: [Opções de armazenamento para aplicativos no Serviço de Kubernetes do Azure (AKS)](https://docs.microsoft.com/pt-br/azure/aks/concepts-storage)\n",
    "\n",
    "Existem muitos tipos de armazenamentos, os mais comuns são os efêmeros e os persistentes.\n",
    "\n",
    "* [Efêmeros](https://kubernetes.io/docs/concepts/storage/ephemeral-volumes/): são os mais comuns e são perdidos quando o POD e reiniciado\n",
    "* [Persistente](https://kubernetes.io/docs/concepts/storage/persistent-volumes/): Como o nome diz, são mantidos mesmo durante reinicio dos PODs. O Kubernetes encontra automaticamente os volumes correspondentes aos PODs.\n",
    "\n",
    "Consulte [Kubernetes - Volumes](https://kubernetes.io/docs/concepts/storage/), para mais  opções. Além dos tipos, cada sistema oferece tipos diferentes de armazenamentos, tais como SSDs, discos mecânicos, etc. No kubernetes isso é representado pela classe de aramazenamento (Storage Class). Uma classe de armazenamento (SC) é utilizada para definir o tipo de volume persistente (PV) que será criado automaticamente a partir de um requerimento (PVC).\n",
    "\n",
    "Para conhecer as classes de armazenamento disnponíveis no seu cluster, utilize o comando:"
   ],
   "metadata": {}
  },
  {
   "cell_type": "code",
   "execution_count": null,
   "source": [
    "kubectl get sc"
   ],
   "outputs": [],
   "metadata": {}
  },
  {
   "cell_type": "markdown",
   "source": [
    "Os nomes mudam de acordo com o lugar que o seu cluster está instalado, a lista acima são as classes da Azure.\n",
    "\n",
    "Você pode omitir a classe de armazenamento, neste caso será utilizada a classe padrão.\n",
    "\n",
    "A nossa aplicação é uma espécie de banco de dados rudimentar que precisa armazenar seus dados de forma persistente, para tal configuramos um requerimento de volume persistente.\n",
    "\n",
    "Vejamos a configuração:"
   ],
   "metadata": {}
  },
  {
   "cell_type": "code",
   "execution_count": null,
   "source": [
    "helm template --namespace $myNamespace --create-namespace back-app ~/work/inovacao/back-app/helm/back-app"
   ],
   "outputs": [],
   "metadata": {}
  },
  {
   "cell_type": "markdown",
   "source": [
    "Selecionamos o trecho referente ao volume:\n",
    "\n",
    "```yaml\n",
    "---\n",
    "# Source: back-app/templates/pcv.yaml\n",
    "kind: PersistentVolumeClaim\n",
    "metadata:\n",
    "  name: back-app-managed-disk\n",
    "spec:\n",
    "  accessModes:\n",
    "  - ReadWriteOnce\n",
    "  storageClassName: managed-premium\n",
    "  resources:\n",
    "    requests:\n",
    "      storage: 1Gi\n",
    "---\n",
    "# Source: back-app/templates/deployment.yaml\n",
    "apiVersion: apps/v1\n",
    "kind: Deployment\n",
    "metadata:\n",
    "  name: back-app\n",
    "  labels:\n",
    "    helm.sh/chart: back-app-0.1.0\n",
    "    app.kubernetes.io/name: back-app\n",
    "    app.kubernetes.io/instance: back-app\n",
    "    app.kubernetes.io/version: \"1.16.0\"\n",
    "    app.kubernetes.io/managed-by: Helm\n",
    "spec:\n",
    "  replicas: 1\n",
    "  selector:\n",
    "    matchLabels:\n",
    "      app.kubernetes.io/name: back-app\n",
    "      app.kubernetes.io/instance: back-app\n",
    "  template:\n",
    "    metadata:\n",
    "      labels:\n",
    "        app.kubernetes.io/name: back-app\n",
    "        app.kubernetes.io/instance: back-app\n",
    "    spec:\n",
    "      serviceAccountName: back-app\n",
    "      securityContext:\n",
    "        {}\n",
    "      containers:\n",
    "        - name: back-app\n",
    "          securityContext:\n",
    "            {}\n",
    "          image: \"kdop/back-app:0.0.1\"\n",
    "          imagePullPolicy: Always\n",
    "          ports:\n",
    "            - name: http\n",
    "              containerPort: 5000\n",
    "              protocol: TCP\n",
    "          livenessProbe:\n",
    "            httpGet:\n",
    "              path: /health\n",
    "              port: http\n",
    "          readinessProbe:\n",
    "            httpGet:\n",
    "              path: /health\n",
    "              port: http\n",
    "          resources:\n",
    "            limits:\n",
    "              cpu: 200m\n",
    "              memory: 256Mi\n",
    "            requests:\n",
    "              cpu: 200m\n",
    "              memory: 256Mi\n",
    "          volumeMounts:\n",
    "          - mountPath: \"/tmp/inovacao/back-app\"\n",
    "            name: back-volume\n",
    "      volumes:\n",
    "        - name: back-volume\n",
    "          persistentVolumeClaim:\n",
    "            claimName: back-app-managed-disk\n",
    "```\n",
    "\n",
    "Um `PersistentVolume` foi criado dinamicamente em resposta ao nosso `PersistentVolumeClaim`. O K8s interage com as APIs da Azure para criar o PV na forma de um disco.\n",
    "\n",
    "Você pode criar seus `PersistentVolume` e/ou associá-los a discos já existentes."
   ],
   "metadata": {}
  },
  {
   "cell_type": "code",
   "execution_count": 49,
   "source": [
    "kubectl get pv --sort-by=.spec.capacity.storage"
   ],
   "outputs": [
    {
     "output_type": "stream",
     "name": "stdout",
     "text": [
      "NAME                                       CAPACITY   ACCESS MODES   RECLAIM POLICY   STATUS   CLAIM                                 STORAGECLASS      REASON   AGE\n",
      "pvc-d813c6c6-7e3e-447b-a9f0-ef9dd4a07702   1Gi        RWO            Delete           Bound    kdop-learn/back-app-managed-disk      managed-premium            3h\n",
      "pvc-1c507ed7-f0d5-4622-8c67-6b6a2a155c85   32Gi       RWO            Delete           Bound    kubecost/kubecost-prometheus-server   default                    90d\n",
      "pvc-fee03536-ab2c-4de4-a475-2c01f1069899   32Gi       RWO            Delete           Bound    kubecost/kubecost-cost-analyzer       default                    90d\n"
     ]
    }
   ],
   "metadata": {}
  },
  {
   "cell_type": "code",
   "execution_count": 51,
   "source": [
    "# Campos do PV\n",
    "kubectl get pv pvc-d813c6c6-7e3e-447b-a9f0-ef9dd4a07702 -o yaml"
   ],
   "outputs": [
    {
     "output_type": "stream",
     "name": "stdout",
     "text": [
      "apiVersion: v1\n",
      "kind: PersistentVolume\n",
      "metadata:\n",
      "  annotations:\n",
      "    pv.kubernetes.io/bound-by-controller: \"yes\"\n",
      "    pv.kubernetes.io/provisioned-by: kubernetes.io/azure-disk\n",
      "    volumehelper.VolumeDynamicallyCreatedByKey: azure-disk-dynamic-provisioner\n",
      "  creationTimestamp: \"2021-08-09T19:27:28Z\"\n",
      "  finalizers:\n",
      "  - kubernetes.io/pv-protection\n",
      "  labels:\n",
      "    failure-domain.beta.kubernetes.io/region: eastus\n",
      "    failure-domain.beta.kubernetes.io/zone: eastus-1\n",
      "  name: pvc-d813c6c6-7e3e-447b-a9f0-ef9dd4a07702\n",
      "  resourceVersion: \"2121685\"\n",
      "  uid: 9f50d7c0-6976-4f0e-b873-7dd9f28af381\n",
      "spec:\n",
      "  accessModes:\n",
      "  - ReadWriteOnce\n",
      "  azureDisk:\n",
      "    cachingMode: ReadOnly\n",
      "    diskName: kubernetes-dynamic-pvc-d813c6c6-7e3e-447b-a9f0-ef9dd4a07702\n",
      "    diskURI: /subscriptions/73c8b399-a4ed-44b8-af3f-081a94ca1f65/resourceGroups/mc_kdop-dev_kdop-learn_eastus/providers/Microsoft.Compute/disks/kubernetes-dynamic-pvc-d813c6c6-7e3e-447b-a9f0-ef9dd4a07702\n",
      "    fsType: \"\"\n",
      "    kind: Managed\n",
      "    readOnly: false\n",
      "  capacity:\n",
      "    storage: 1Gi\n",
      "  claimRef:\n",
      "    apiVersion: v1\n",
      "    kind: PersistentVolumeClaim\n",
      "    name: back-app-managed-disk\n",
      "    namespace: kdop-learn\n",
      "    resourceVersion: \"2121659\"\n",
      "    uid: d813c6c6-7e3e-447b-a9f0-ef9dd4a07702\n",
      "  nodeAffinity:\n",
      "    required:\n",
      "      nodeSelectorTerms:\n",
      "      - matchExpressions:\n",
      "        - key: failure-domain.beta.kubernetes.io/region\n",
      "          operator: In\n",
      "          values:\n",
      "          - eastus\n",
      "        - key: failure-domain.beta.kubernetes.io/zone\n",
      "          operator: In\n",
      "          values:\n",
      "          - eastus-1\n",
      "  persistentVolumeReclaimPolicy: Delete\n",
      "  storageClassName: managed-premium\n",
      "  volumeMode: Filesystem\n",
      "status:\n",
      "  phase: Bound\n"
     ]
    }
   ],
   "metadata": {}
  },
  {
   "cell_type": "markdown",
   "source": [
    "O comando `get pv` listou um `PersistentVolumes` associado ao seu requerimento.\n",
    "\n",
    "Na figura abaixo, você pode ver os dois discos na Azure.\n",
    "\n",
    "![](media/azure-disks.png)\n",
    "\n",
    "Se você descrever o `PersistentVolume` associado verá alguns labels que descrevem sua origem."
   ],
   "metadata": {}
  },
  {
   "cell_type": "code",
   "execution_count": null,
   "source": [
    "kubectl describe pv/pvc-d813c6c6-7e3e-447b-a9f0-ef9dd4a07702"
   ],
   "outputs": [],
   "metadata": {}
  },
  {
   "cell_type": "markdown",
   "source": [
    "Um olhar mais detalhado no disco na Azure revelará como o Kubernetes faz sua mágica para encontrar seus volumes e seus respectivos donos.\n",
    "\n",
    "![](media/azure-disk.png)\n",
    "\n",
    "Alguns desses labels também aparecem no `PersistentVolumeClaim`."
   ],
   "metadata": {}
  },
  {
   "cell_type": "code",
   "execution_count": null,
   "source": [
    "kubectl describe pvc/back-app-managed-disk -n $myNamespace"
   ],
   "outputs": [],
   "metadata": {}
  },
  {
   "cell_type": "markdown",
   "source": [
    "[<img align=\"left\" src=\"media/voltar.png\" width=\"100\"/>](03_Helm.ipynb) [<img align=\"right\" src=\"media/avancar.png\" width=\"100\"/>](05_Cert.ipynb)"
   ],
   "metadata": {}
  }
 ],
 "metadata": {
  "kernelspec": {
   "display_name": "Bash",
   "language": "bash",
   "name": "bash"
  },
  "language_info": {
   "codemirror_mode": "shell",
   "file_extension": ".sh",
   "mimetype": "text/x-sh",
   "name": "bash"
  }
 },
 "nbformat": 4,
 "nbformat_minor": 4
}