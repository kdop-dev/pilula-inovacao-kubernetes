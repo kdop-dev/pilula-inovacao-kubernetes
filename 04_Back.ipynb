{
 "cells": [
  {
   "cell_type": "markdown",
   "metadata": {},
   "source": [
    "# Projeto back-app"
   ]
  },
  {
   "cell_type": "markdown",
   "metadata": {},
   "source": [
    "## Preparando o acesso ao Ambiente"
   ]
  },
  {
   "cell_type": "code",
   "execution_count": null,
   "metadata": {},
   "outputs": [],
   "source": [
    "export KUBECONFIG=~/work/kubeconfig\n",
    "export myNamespace=kdop-learn\n",
    "cd ~/work/inovacao\n",
    "echo $PWD"
   ]
  },
  {
   "cell_type": "markdown",
   "metadata": {},
   "source": [
    "1. Publicando o Projeto back-app"
   ]
  },
  {
   "cell_type": "code",
   "execution_count": null,
   "metadata": {},
   "outputs": [],
   "source": [
    "helm upgrade --install --namespace $myNamespace --create-namespace back-app ~/work/inovacao/back-app/helm/back-app"
   ]
  },
  {
   "cell_type": "markdown",
   "metadata": {},
   "source": [
    "2. Consultando os recursos do namespace"
   ]
  },
  {
   "cell_type": "code",
   "execution_count": null,
   "metadata": {},
   "outputs": [],
   "source": [
    "kubectl get all -n $myNamespace"
   ]
  },
  {
   "cell_type": "code",
   "execution_count": null,
   "metadata": {},
   "outputs": [],
   "source": [
    "kubectl get ingress -n $myNamespace"
   ]
  },
  {
   "cell_type": "code",
   "execution_count": null,
   "metadata": {},
   "outputs": [],
   "source": [
    "# Estendendo as informações sobre os recursos\n",
    "kubectl get pods -o wide"
   ]
  },
  {
   "cell_type": "code",
   "execution_count": null,
   "metadata": {},
   "outputs": [],
   "source": [
    "kubectl get pods --show-labels"
   ]
  },
  {
   "cell_type": "code",
   "execution_count": null,
   "metadata": {},
   "outputs": [],
   "source": [
    "kubectl get pod -l app.kubernetes.io/name=front-app"
   ]
  },
  {
   "cell_type": "code",
   "execution_count": null,
   "metadata": {},
   "outputs": [],
   "source": [
    "kubectl describe pod -l app.kubernetes.io/name=front-app"
   ]
  },
  {
   "cell_type": "code",
   "execution_count": null,
   "metadata": {},
   "outputs": [],
   "source": [
    "kubectl logs -l 'app.kubernetes.io/name=front-app' --all-containers"
   ]
  },
  {
   "cell_type": "code",
   "execution_count": null,
   "metadata": {},
   "outputs": [],
   "source": [
    "kubectl delete pod -l app.kubernetes.io/name=front-app"
   ]
  },
  {
   "cell_type": "code",
   "execution_count": null,
   "metadata": {},
   "outputs": [],
   "source": [
    "kubectl get pod -l app.kubernetes.io/name=front-app"
   ]
  },
  {
   "cell_type": "markdown",
   "metadata": {},
   "source": [
    "3. Validando o Serviço\n",
    "\n",
    "    Para acessar o back-app fora do Cluster, necessitamos expor temporariamente o serviço\n",
    "    \n",
    "    Abra um terminal e execute o comando abaixo\n",
    "```bash\n",
    "kubectl port-forward svc/front-app 8080:5000 -n kdop-learn\n",
    "```"
   ]
  },
  {
   "cell_type": "code",
   "execution_count": null,
   "metadata": {},
   "outputs": [],
   "source": [
    "curl http://localhost:8080/health"
   ]
  },
  {
   "cell_type": "code",
   "execution_count": null,
   "metadata": {},
   "outputs": [],
   "source": [
    "# Alternativas para executar comandos em um pod\n",
    "kubectl exec svc/front-app -- curl -s http://localhost:5000/health"
   ]
  },
  {
   "cell_type": "code",
   "execution_count": null,
   "metadata": {},
   "outputs": [],
   "source": [
    "kubectl exec deploy/front-app -- curl -s http://localhost:5000/health"
   ]
  },
  {
   "cell_type": "markdown",
   "metadata": {},
   "source": [
    "Agora que os PODs estão em execução, podemos também validar a aplicação front-app.  \n"
   ]
  },
  {
   "cell_type": "code",
   "execution_count": null,
   "metadata": {},
   "outputs": [],
   "source": [
    "echo http://learn.kdop.net/$myNamespace/front-app/health\n",
    "echo http://learn.kdop.net/$myNamespace/front-app/index"
   ]
  },
  {
   "cell_type": "markdown",
   "metadata": {},
   "source": [
    "### ConfigMap\n",
    "\n",
    "Como o front-app acessa o back-app?"
   ]
  },
  {
   "cell_type": "code",
   "execution_count": null,
   "metadata": {},
   "outputs": [],
   "source": [
    "kubectl describe cm/front-app -n $myNamespace"
   ]
  },
  {
   "cell_type": "markdown",
   "metadata": {},
   "source": [
    "### HPA\n",
    "\n",
    "```yaml\n",
    "apiVersion: autoscaling/v2beta1\n",
    "kind: HorizontalPodAutoscaler\n",
    "metadata:\n",
    "  name: back-app\n",
    "  labels:\n",
    "    back-app\n",
    "spec:\n",
    "  scaleTargetRef:\n",
    "    apiVersion: apps/v1\n",
    "    kind: Deployment\n",
    "    name: back-app\n",
    "  minReplicas: 1\n",
    "  maxReplicas: 3\n",
    "  metrics:\n",
    "    - type: Resource\n",
    "      resource:\n",
    "        name: cpu\n",
    "        targetAverageUtilization: 80\n",
    "    - type: Resource\n",
    "      resource:\n",
    "        name: memory\n",
    "        targetAverageUtilization: 80\n",
    "```"
   ]
  },
  {
   "cell_type": "code",
   "execution_count": null,
   "metadata": {},
   "outputs": [],
   "source": [
    "kubectl get hpa -n $myNamespace"
   ]
  },
  {
   "cell_type": "markdown",
   "metadata": {},
   "source": [
    "### Volumes\n",
    "\n",
    "O conceito de volume para PODs é o mesmo que para máquinas VM ou físicas, é uma área de armazenamento que será montada em um diretório ou em uma letra (windows).\n",
    "\n",
    "![](media/aks-storage.png)\n",
    "\n",
    "Fonte: [Opções de armazenamento para aplicativos no Serviço de Kubernetes do Azure (AKS)](https://docs.microsoft.com/pt-br/azure/aks/concepts-storage)\n",
    "\n",
    "Existem muitos tipos de armazenamentos, os mais comuns são os efêmeros e os persistentes.\n",
    "\n",
    "* [Efêmeros](https://kubernetes.io/docs/concepts/storage/ephemeral-volumes/): são os mais comuns e são perdidos quando o POD e reiniciado\n",
    "* [Persistente](https://kubernetes.io/docs/concepts/storage/persistent-volumes/): Como o nome diz, são mantidos mesmo durante reinicio dos PODs. O Kubernetes encontra automaticamente os volumes correspondentes aos PODs.\n",
    "\n",
    "Consulte [Kubernetes - Volumes](https://kubernetes.io/docs/concepts/storage/), para mais  opções. Além dos tipos, cada sistema oferece tipos diferentes de armazenamentos, tais como SSDs, discos mecânicos, etc. No kubernetes isso é representado pela classe de aramazenamento (Storage Class). Uma classe de armazenamento (SC) é utilizada para definir o tipo de volume persistente (PV) que será criado automaticamente a partir de um requerimento (PVC).\n",
    "\n",
    "Para conhecer as classes de armazenamento disnponíveis no seu cluster, utilize o comando:"
   ]
  },
  {
   "cell_type": "code",
   "execution_count": null,
   "metadata": {},
   "outputs": [],
   "source": [
    "kubectl get sc"
   ]
  },
  {
   "cell_type": "markdown",
   "metadata": {},
   "source": [
    "Os nomes mudam de acordo com o lugar que o seu cluster está instalado, a lista acima são as classes da Azure.\n",
    "\n",
    "Você pode omitir a classe de armazenamento, neste caso será utilizada a classe padrão.\n",
    "\n",
    "A nossa aplicação é uma espécie de banco de dados rudimentar que precisa armazenar seus dados de forma persistente, para tal configuramos um requerimento de volume persistente.\n",
    "\n",
    "Vejamos a configuração:"
   ]
  },
  {
   "cell_type": "code",
   "execution_count": null,
   "metadata": {},
   "outputs": [],
   "source": [
    "helm template --namespace $myNamespace --create-namespace back-app ~/work/inovacao/back-app/helm/back-app"
   ]
  },
  {
   "cell_type": "markdown",
   "metadata": {},
   "source": [
    "Selecionamos o trecho referente ao volume:\n",
    "\n",
    "```yaml\n",
    "---\n",
    "# Source: back-app/templates/pcv.yaml\n",
    "kind: PersistentVolumeClaim\n",
    "metadata:\n",
    "  name: back-app-managed-disk\n",
    "spec:\n",
    "  accessModes:\n",
    "  - ReadWriteOnce\n",
    "  storageClassName: managed-premium\n",
    "  resources:\n",
    "    requests:\n",
    "      storage: 1Gi\n",
    "---\n",
    "# Source: back-app/templates/deployment.yaml\n",
    "apiVersion: apps/v1\n",
    "kind: Deployment\n",
    "metadata:\n",
    "  name: back-app\n",
    "  labels:\n",
    "    helm.sh/chart: back-app-0.1.0\n",
    "    app.kubernetes.io/name: back-app\n",
    "    app.kubernetes.io/instance: back-app\n",
    "    app.kubernetes.io/version: \"1.16.0\"\n",
    "    app.kubernetes.io/managed-by: Helm\n",
    "spec:\n",
    "  replicas: 1\n",
    "  selector:\n",
    "    matchLabels:\n",
    "      app.kubernetes.io/name: back-app\n",
    "      app.kubernetes.io/instance: back-app\n",
    "  template:\n",
    "    metadata:\n",
    "      labels:\n",
    "        app.kubernetes.io/name: back-app\n",
    "        app.kubernetes.io/instance: back-app\n",
    "    spec:\n",
    "      serviceAccountName: back-app\n",
    "      securityContext:\n",
    "        {}\n",
    "      containers:\n",
    "        - name: back-app\n",
    "          securityContext:\n",
    "            {}\n",
    "          image: \"kdop/back-app:0.0.1\"\n",
    "          imagePullPolicy: Always\n",
    "          ports:\n",
    "            - name: http\n",
    "              containerPort: 5000\n",
    "              protocol: TCP\n",
    "          livenessProbe:\n",
    "            httpGet:\n",
    "              path: /health\n",
    "              port: http\n",
    "          readinessProbe:\n",
    "            httpGet:\n",
    "              path: /health\n",
    "              port: http\n",
    "          resources:\n",
    "            limits:\n",
    "              cpu: 200m\n",
    "              memory: 256Mi\n",
    "            requests:\n",
    "              cpu: 200m\n",
    "              memory: 256Mi\n",
    "          volumeMounts:\n",
    "          - mountPath: \"/tmp/inovacao/back-app\"\n",
    "            name: back-volume\n",
    "      volumes:\n",
    "        - name: back-volume\n",
    "          persistentVolumeClaim:\n",
    "            claimName: back-app-managed-disk\n",
    "```\n",
    "\n",
    "Um `PersistentVolume` foi criado dinamicamente em resposta ao nosso `PersistentVolumeClaim`. O K8s interage com as APIs da Azure para criar o PV na forma de um disco.\n",
    "\n",
    "Você pode criar seus `PersistentVolume` e/ou associá-los a discos já existentes."
   ]
  },
  {
   "cell_type": "code",
   "execution_count": null,
   "metadata": {},
   "outputs": [],
   "source": [
    "kubectl get pv --sort-by=.spec.capacity.storage"
   ]
  },
  {
   "cell_type": "code",
   "execution_count": null,
   "metadata": {},
   "outputs": [],
   "source": [
    "# Campos do PV\n",
    "kubectl get pv pvc-80b372aa-7812-46fc-8ef0-5aca430cd273 -o yaml"
   ]
  },
  {
   "cell_type": "markdown",
   "metadata": {},
   "source": [
    "O comando `get pv` listou um `PersistentVolumes` associado ao seu requerimento.\n",
    "\n",
    "Na figura abaixo, você pode ver os dois discos na Azure.\n",
    "\n",
    "![](media/azure-disks.png)\n",
    "\n",
    "Se você descrever o `PersistentVolume` associado verá alguns labels que descrevem sua origem."
   ]
  },
  {
   "cell_type": "code",
   "execution_count": null,
   "metadata": {},
   "outputs": [],
   "source": [
    "kubectl describe pv/pvc-80b372aa-7812-46fc-8ef0-5aca430cd273"
   ]
  },
  {
   "cell_type": "code",
   "execution_count": null,
   "metadata": {},
   "outputs": [],
   "source": [
    "kubectl describe pvc/back-app-managed-disk -n $myNamespace"
   ]
  },
  {
   "cell_type": "markdown",
   "metadata": {},
   "source": [
    "[<img align=\"left\" src=\"media/voltar.png\" width=\"100\"/>](03_Helm.ipynb) [<img align=\"right\" src=\"media/avancar.png\" width=\"100\"/>](05_Cert.ipynb)"
   ]
  }
 ],
 "metadata": {
  "kernelspec": {
   "display_name": "Bash",
   "language": "bash",
   "name": "bash"
  },
  "language_info": {
   "codemirror_mode": "shell",
   "file_extension": ".sh",
   "mimetype": "text/x-sh",
   "name": "bash"
  }
 },
 "nbformat": 4,
 "nbformat_minor": 4
}
