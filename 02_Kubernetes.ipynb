{
 "cells": [
  {
   "cell_type": "markdown",
   "metadata": {},
   "source": [
    "# [Kubernetes](https://kubernetes.io/pt/)\n",
    "\n",
    "Kubernetes (K8s) é um produto Open Source utilizado para automatizar a implantação, o dimensionamento e o gerenciamento de aplicativos em contêiner.\n",
    "\n",
    "## Visão geral\n",
    "\n",
    "<img src=\"https://d33wubrfki0l68.cloudfront.net/283cc20bb49089cb2ca54d51b4ac27720c1a7902/34424/docs/tutorials/kubernetes-basics/public/images/module_01_cluster.svg\" alt=\"drawing\" width=\"1000\"/>\n",
    "\n",
    "**Master**  \n",
    "Gerencia a alocação dos recursos no cluster.\n",
    "\n",
    "[**Nodes**](https://kubernetes.io/docs/concepts/architecture/nodes/)\n",
    "Executa os contêineres gerenciados pelo Cluster K8s.   \n",
    "O Kubernetes executa sua carga de trabalho colocando contêineres em pods para serem executados em nós(Node). - [node](https://d33wubrfki0l68.cloudfront.net/5cb72d407cbe2755e581b6de757e0d81760d5b86/a9df9/docs/tutorials/kubernetes-basics/public/images/module_03_nodes.svg)\n",
    "\n",
    "<img src=\"https://d33wubrfki0l68.cloudfront.net/5cb72d407cbe2755e581b6de757e0d81760d5b86/a9df9/docs/tutorials/kubernetes-basics/public/images/module_03_nodes.svg\" alt=\"drawing\" width=\"1000\"/>\n",
    "\n",
    "[**Namespace (ns)**](https://kubernetes.io/docs/concepts/overview/working-with-objects/namespaces/)  \n",
    "São clusters virtuais. Os namespaces são uma forma de dividir os recursos do cluster.\n",
    "Alguns exemplos de utilização: ambiente (DEV, HOM, PROD), produto, aplicação, time, ...\n",
    "Os recursos do kubernetes são criados no namespace kube-system.  \n",
    "\n",
    "[**Deployment (deploy)**](https://kubernetes.io/docs/concepts/workloads/controllers/deployment/)  \n",
    "Descreve o estado desejado do POD. \n",
    "\n",
    "[**ReplicaSet**](https://kubernetes.io/docs/concepts/workloads/controllers/replicaset/)  \n",
    "Recurso responsável por monitorar e manter os PODs em execução. Ele garante que o número específico de réplicas de PODs sejam executadas ao mesmo tempo.\n",
    "Caso um POD seja deletado, o ReplicaSet irá criar um novo de acordo com o estado desejado.\n",
    "\n",
    "[**POD**](https://kubernetes.io/docs/concepts/workloads/pods/)  \n",
    "Representa um conjunto de contêiners em execução no Cluster.\n",
    "\n",
    "[**Services (svc)**](https://kubernetes.io/docs/concepts/services-networking/service/)  \n",
    "Uma maneira abstrata de expor uma aplicação em execução em um conjunto de Pods como um serviço de rede.  \n",
    "Tipos de Serviço:\n",
    "* **ClusterIP** (Padrão): Expõe o serviço em um IP interno do cluster. A escolha desse valor torna o serviço acessível apenas de dentro do cluster.\n",
    "* **NodePort**: Cria uma porta estática exponto o serviço pelos nodes. O serviço fica acessível via \\<Node IP>:\\<Node Port>\n",
    "* **LoadBalancer**: Expõe o serviço externamente usando o balanceador de carga de um **provedor de nuvem**. \n",
    "* **ExternalName**: Mapeia o serviço para o conteúdo do campo externalName (por exemplo foo.bar.example.com).\n",
    "\n",
    "[**Ingress Controller**](https://kubernetes.io/docs/concepts/services-networking/ingress-controllers/) e [**Ingress**](https://kubernetes.io/docs/concepts/services-networking/ingress/)\n",
    "\n",
    "Você também pode usar o Ingress para expor seu serviço. Ingress não é um tipo de serviço, mas atua como o ponto de entrada para seu cluster. Ele permite que você consolide suas regras de roteamento em um único recurso, pois pode expor vários serviços no mesmo endereço IP.\n",
    "\n",
    "Ver: [Instalando NGINX Ingress no Kubernetes](https://kubernetes.github.io/ingress-nginx/deploy/#azure)\n",
    "\n",
    "[**Volumes**](https://kubernetes.io/docs/concepts/storage/)\n",
    "\n",
    "Criação de volumes e volumes persistentes para seus PODs.\n",
    "\n",
    "* [Persistent Volumes](https://kubernetes.io/docs/concepts/storage/persistent-volumes/)\n",
    "* [Dynamically create and use a persistent volume with Azure disks in Azure Kubernetes Service (AKS)](https://docs.microsoft.com/en-us/azure/aks/azure-disks-dynamic-pv)\n",
    "\n",
    "[**Horizontal Pod Autoscaler (HPA)**](https://kubernetes.io/docs/tasks/run-application/horizontal-pod-autoscale/)\n",
    "\n",
    "O HPA dimensiona automaticamente o número de PODs com base na utilização de CPU ou Memória (Beta).\n",
    "\n",
    "[**ConfigMap**](https://kubernetes.io/docs/concepts/configuration/configmap/)\n",
    "\n",
    "Utilizado para armazenar dados de configuração separados do código do aplicativo.\n",
    "\n",
    "> Importante: O ConfigMap não fornece sigilo ou criptografia. Se os dados que você deseja armazenar são confidenciais, use o [Secret](https://kubernetes.io/docs/concepts/configuration/secret/) em vez de um ConfigMap."
   ]
  },
  {
   "cell_type": "markdown",
   "metadata": {},
   "source": [
    "![](https://d33wubrfki0l68.cloudfront.net/7a13fe12acc9ea0728460c482c67e0eb31ff5303/2c8a7/docs/tutorials/kubernetes-basics/public/images/module_04_labels.svg)"
   ]
  },
  {
   "cell_type": "markdown",
   "metadata": {},
   "source": [
    "## Preparando o Acesso ao Ambiente    "
   ]
  },
  {
   "cell_type": "markdown",
   "metadata": {},
   "source": [
    "### Autenticando na Azure"
   ]
  },
  {
   "cell_type": "code",
   "execution_count": null,
   "metadata": {},
   "outputs": [],
   "source": [
    "az login"
   ]
  },
  {
   "cell_type": "code",
   "execution_count": null,
   "metadata": {},
   "outputs": [],
   "source": [
    "az account set --subscription SharedKernel"
   ]
  },
  {
   "cell_type": "markdown",
   "metadata": {},
   "source": [
    "### Obtendo credenciais"
   ]
  },
  {
   "cell_type": "code",
   "execution_count": null,
   "metadata": {},
   "outputs": [],
   "source": [
    "az aks show --name plataforma-pos --resource-group plataforma-pos | jq .provisioningState"
   ]
  },
  {
   "cell_type": "code",
   "execution_count": null,
   "metadata": {},
   "outputs": [],
   "source": [
    "# Verificar o estado do cluster\n",
    "az aks show --name plataforma-pos --resource-group plataforma-pos | jq .powerState.code"
   ]
  },
  {
   "cell_type": "code",
   "execution_count": null,
   "metadata": {},
   "outputs": [],
   "source": [
    "# Iniciar o cluster\n",
    "az aks start --name plataforma-pos --resource-group plataforma-pos"
   ]
  },
  {
   "cell_type": "code",
   "execution_count": null,
   "metadata": {},
   "outputs": [],
   "source": [
    "# Obter as credenciais\n",
    "az aks get-credentials --resource-group plataforma-pos --name plataforma-pos -f work/kubeconfig"
   ]
  },
  {
   "cell_type": "code",
   "execution_count": null,
   "metadata": {},
   "outputs": [],
   "source": [
    "# Parar o cluster\n",
    "# az aks stop --name plataforma-pos --resource-group plataforma-pos"
   ]
  },
  {
   "cell_type": "markdown",
   "metadata": {},
   "source": [
    "### Configurando o ambiente"
   ]
  },
  {
   "cell_type": "code",
   "execution_count": null,
   "metadata": {},
   "outputs": [],
   "source": [
    "export KUBECONFIG=~/work/kubeconfig\n",
    "export myNamespace=kdop-learn\n",
    "cd ~/work/inovacao\n",
    "echo $PWD"
   ]
  },
  {
   "cell_type": "code",
   "execution_count": null,
   "metadata": {},
   "outputs": [],
   "source": [
    "# Verificando a configuração\n",
    "kubectl config view"
   ]
  },
  {
   "cell_type": "code",
   "execution_count": null,
   "metadata": {},
   "outputs": [],
   "source": [
    "kubectl config current-context\n",
    "kubectl config use-context plataforma-pos"
   ]
  },
  {
   "cell_type": "markdown",
   "metadata": {},
   "source": [
    "## Consultando nosso Cluster\n",
    "\n",
    "1. Consultando a Versão"
   ]
  },
  {
   "cell_type": "code",
   "execution_count": null,
   "metadata": {},
   "outputs": [],
   "source": [
    "kubectl version"
   ]
  },
  {
   "cell_type": "markdown",
   "metadata": {},
   "source": [
    "2. Consultando as informações do Cluster"
   ]
  },
  {
   "cell_type": "code",
   "execution_count": null,
   "metadata": {
    "tags": []
   },
   "outputs": [],
   "source": [
    "kubectl cluster-info"
   ]
  },
  {
   "cell_type": "markdown",
   "metadata": {},
   "source": [
    "3. Listando os nós do cluster"
   ]
  },
  {
   "cell_type": "code",
   "execution_count": null,
   "metadata": {},
   "outputs": [],
   "source": [
    "kubectl get nodes -o wide"
   ]
  },
  {
   "cell_type": "markdown",
   "metadata": {},
   "source": [
    "4. Verificando detalhes do node\n",
    "\n",
    "    Informe o nome do node exibido no passo anterior e execute o comando."
   ]
  },
  {
   "cell_type": "code",
   "execution_count": null,
   "metadata": {},
   "outputs": [],
   "source": [
    "kubectl describe nodes"
   ]
  },
  {
   "cell_type": "markdown",
   "metadata": {},
   "source": [
    "5. Verificando Processamento do Node"
   ]
  },
  {
   "cell_type": "code",
   "execution_count": null,
   "metadata": {},
   "outputs": [],
   "source": [
    "kubectl top nodes"
   ]
  },
  {
   "cell_type": "code",
   "execution_count": null,
   "metadata": {},
   "outputs": [],
   "source": [
    "kubectl top pods --all-namespaces"
   ]
  },
  {
   "cell_type": "code",
   "execution_count": null,
   "metadata": {},
   "outputs": [],
   "source": [
    "kubectl top -h"
   ]
  },
  {
   "cell_type": "markdown",
   "metadata": {},
   "source": [
    "## APIs"
   ]
  },
  {
   "cell_type": "code",
   "execution_count": null,
   "metadata": {},
   "outputs": [],
   "source": [
    "kubectl cluster-info"
   ]
  },
  {
   "cell_type": "code",
   "execution_count": null,
   "metadata": {},
   "outputs": [],
   "source": [
    "# Listar todos os recursos do cluster\n",
    "kubectl api-resources"
   ]
  },
  {
   "cell_type": "code",
   "execution_count": null,
   "metadata": {},
   "outputs": [],
   "source": [
    "kubectl api-resources --namespaced=true"
   ]
  },
  {
   "cell_type": "markdown",
   "metadata": {},
   "source": [
    "## Namespaces"
   ]
  },
  {
   "cell_type": "markdown",
   "metadata": {},
   "source": [
    "1. Consultando o namespace (ns)"
   ]
  },
  {
   "cell_type": "code",
   "execution_count": null,
   "metadata": {},
   "outputs": [],
   "source": [
    "kubectl get namespace"
   ]
  },
  {
   "cell_type": "markdown",
   "metadata": {},
   "source": [
    "2. Criando namespace (ns)"
   ]
  },
  {
   "cell_type": "code",
   "execution_count": null,
   "metadata": {},
   "outputs": [],
   "source": [
    "kubectl create ns $myNamespace"
   ]
  },
  {
   "cell_type": "markdown",
   "metadata": {},
   "source": [
    "3. Verificando os detalhes do namespace"
   ]
  },
  {
   "cell_type": "code",
   "execution_count": null,
   "metadata": {},
   "outputs": [],
   "source": [
    "kubectl describe ns $myNamespace"
   ]
  },
  {
   "cell_type": "markdown",
   "metadata": {},
   "source": [
    "4. Define um namespace como padrão (padrão é default)"
   ]
  },
  {
   "cell_type": "code",
   "execution_count": null,
   "metadata": {},
   "outputs": [],
   "source": [
    "kubectl get pods"
   ]
  },
  {
   "cell_type": "code",
   "execution_count": null,
   "metadata": {},
   "outputs": [],
   "source": [
    "kubectl config set-context --current --namespace=$myNamespace"
   ]
  },
  {
   "cell_type": "code",
   "execution_count": null,
   "metadata": {},
   "outputs": [],
   "source": [
    "kubectl get pods"
   ]
  },
  {
   "cell_type": "code",
   "execution_count": null,
   "metadata": {},
   "outputs": [],
   "source": [
    "# O mesmo que\n",
    "kubectl get pods -n $myNamespace"
   ]
  },
  {
   "cell_type": "markdown",
   "metadata": {},
   "source": [
    "## Subindo uma Aplicação\n",
    "\n",
    "Versionamos os recursos (namespace, deploy, service, ...) do cluster em arquivos YAML e para publicar estes recursos no Cluster k8s, utilizamos o comando:\n",
    "\n",
    "```\n",
    "kubectl apply -f ./my-resource.yaml \n",
    "```"
   ]
  },
  {
   "cell_type": "markdown",
   "metadata": {},
   "source": [
    "### Deployment\n",
    "\n",
    "    1. Criando deployment"
   ]
  },
  {
   "cell_type": "code",
   "execution_count": null,
   "metadata": {},
   "outputs": [],
   "source": [
    "cat <<EOF | kubectl -n $myNamespace apply -f -\n",
    "apiVersion: apps/v1\n",
    "kind: Deployment\n",
    "metadata:\n",
    "  name: helloworld\n",
    "spec:\n",
    "  replicas: 1\n",
    "  selector:\n",
    "    matchLabels:\n",
    "      app: helloworld\n",
    "  template:\n",
    "    metadata:\n",
    "      labels:\n",
    "        app: helloworld\n",
    "    spec:\n",
    "      containers:\n",
    "      - name: helloworld\n",
    "        image: docker.io/istio/examples-helloworld-v2\n",
    "        resources:\n",
    "          requests:          # Define o recurso necessário do container para o POD iniciar. \n",
    "            cpu: \"100m\"\n",
    "            memory: \"64Mi\"\n",
    "          limits:            # Define o limite do Recurso, o quando ele pode crescer, caso o nó possua recurso disponível.\n",
    "            memory: \"128Mi\"\n",
    "            cpu: \"250m\"            \n",
    "        imagePullPolicy: IfNotPresent #Always\n",
    "        ports:\n",
    "        - containerPort: 5000\n",
    "EOF"
   ]
  },
  {
   "cell_type": "code",
   "execution_count": null,
   "metadata": {},
   "outputs": [],
   "source": [
    "kubectl explain Deployment # Deployment.spec"
   ]
  },
  {
   "cell_type": "markdown",
   "metadata": {},
   "source": [
    "    O deployment também pode ser criado com o códgio abaixo\n",
    "\n",
    "```bash\n",
    "kubectl -n $myNamespace create deployment helloworld --image=docker.io/istio/examples-helloworld-v2\n",
    "```\n",
    "\n",
    "2. Consultando o deployment (deploy)"
   ]
  },
  {
   "cell_type": "code",
   "execution_count": null,
   "metadata": {},
   "outputs": [],
   "source": [
    "kubectl -n $myNamespace get deploy/helloworld"
   ]
  },
  {
   "cell_type": "markdown",
   "metadata": {},
   "source": [
    "Duvidas sobre deployment"
   ]
  },
  {
   "cell_type": "markdown",
   "metadata": {},
   "source": [
    "3. Consultando o POD"
   ]
  },
  {
   "cell_type": "code",
   "execution_count": null,
   "metadata": {},
   "outputs": [],
   "source": [
    "kubectl -n $myNamespace get pod # Para mais detalhes, trocar o comando get por describe"
   ]
  },
  {
   "cell_type": "markdown",
   "metadata": {},
   "source": [
    "4. Verificando o log do POD\n",
    "\n",
    "    Informe o nome do POD apresentado no comando anterior para executar os passos  4, 5 e 6."
   ]
  },
  {
   "cell_type": "code",
   "execution_count": null,
   "metadata": {},
   "outputs": [],
   "source": [
    "kubectl -n $myNamespace logs pod/helloworld-7c54d6c5cb-ptqqr"
   ]
  },
  {
   "cell_type": "code",
   "execution_count": null,
   "metadata": {},
   "outputs": [],
   "source": [
    "# Alternativa\n",
    "kubectl logs deploy/helloworld -n $myNamespace"
   ]
  },
  {
   "cell_type": "markdown",
   "metadata": {},
   "source": [
    "5. Conectando no POD"
   ]
  },
  {
   "cell_type": "code",
   "execution_count": null,
   "metadata": {},
   "outputs": [],
   "source": [
    "# Executar em um terminal\n",
    "\n",
    "export KUBECONFIG=~/work/kubeconfig\n",
    "export myNamespace=kdop-learn\n",
    "\n",
    "# Usar essa sintaxe\n",
    "kubectl -n $myNamespace exec -it deploy/helloworld -- bash\n",
    "\n",
    "# No container\n",
    "curl localhost:5000/hello"
   ]
  },
  {
   "cell_type": "markdown",
   "metadata": {},
   "source": [
    "6. Deletando o POD"
   ]
  },
  {
   "cell_type": "code",
   "execution_count": null,
   "metadata": {},
   "outputs": [],
   "source": [
    "kubectl -n $myNamespace delete pod/helloworld-7c54d6c5cb-ptqqr"
   ]
  },
  {
   "cell_type": "markdown",
   "metadata": {
    "tags": []
   },
   "source": [
    "### ReplicaSet\n",
    "    Podemos verificar que o POD será recriado.\n",
    "    O ReplicaSet garante que o aplicação mantanha o estado desejado configurado no deployment."
   ]
  },
  {
   "cell_type": "code",
   "execution_count": null,
   "metadata": {},
   "outputs": [],
   "source": [
    "kubectl describe rs -n $myNamespace"
   ]
  },
  {
   "cell_type": "code",
   "execution_count": null,
   "metadata": {},
   "outputs": [],
   "source": [
    "# Aumentando e diminuindo o número de pods\n",
    "kubectl scale deployment/helloworld --replicas=5 -n $myNamespace"
   ]
  },
  {
   "cell_type": "code",
   "execution_count": null,
   "metadata": {},
   "outputs": [],
   "source": [
    "kubectl get events --sort-by=.metadata.creationTimestamp --field-selector involvedObject.name=helloworld -n $myNamespace"
   ]
  },
  {
   "cell_type": "code",
   "execution_count": null,
   "metadata": {},
   "outputs": [],
   "source": [
    "kubectl -n $myNamespace get pod"
   ]
  },
  {
   "cell_type": "markdown",
   "metadata": {},
   "source": [
    "### Services\n",
    "\n",
    "1. Criando o serviço"
   ]
  },
  {
   "cell_type": "code",
   "execution_count": null,
   "metadata": {},
   "outputs": [],
   "source": [
    "cat <<EOF | kubectl -n $myNamespace apply -f -\n",
    "apiVersion: v1\n",
    "kind: Service\n",
    "metadata:\n",
    "  name: helloworld\n",
    "  labels:\n",
    "    app: helloworld\n",
    "spec:\n",
    "  ports:\n",
    "  - port: 8080       #Porta para acesso ao Serviço\n",
    "#   nodePort: 30800  #Porta para acesso aos nós do Cluster (range default: 30000-32767)\n",
    "    name: http\n",
    "    targetPort: 5000 #Porta para acesso ao POD   \n",
    "  selector:\n",
    "    app: helloworld\n",
    "  type: LoadBalancer\n",
    "EOF"
   ]
  },
  {
   "cell_type": "markdown",
   "metadata": {},
   "source": [
    "2. Consultando o Serviço (svc)"
   ]
  },
  {
   "cell_type": "code",
   "execution_count": null,
   "metadata": {
    "tags": []
   },
   "outputs": [],
   "source": [
    "kubectl -n $myNamespace get svc"
   ]
  },
  {
   "cell_type": "markdown",
   "metadata": {},
   "source": [
    "    Para acessar o serviço, verifique o IP Externo liberado e acesse conforme abaixo\n",
    "* <http://20.81.104.102:8080/hello>"
   ]
  },
  {
   "cell_type": "code",
   "execution_count": null,
   "metadata": {},
   "outputs": [],
   "source": [
    "kubectl get all -n $myNamespace"
   ]
  },
  {
   "cell_type": "markdown",
   "metadata": {},
   "source": [
    "3. Excluindo os Recursos"
   ]
  },
  {
   "cell_type": "code",
   "execution_count": null,
   "metadata": {},
   "outputs": [],
   "source": [
    "kubectl -n $myNamespace delete svc helloworld\n",
    "kubectl -n $myNamespace delete deploy helloworld\n",
    "# kubectl -n $myNamespace delete ns $myNamespace"
   ]
  },
  {
   "cell_type": "markdown",
   "metadata": {},
   "source": [
    "> Obs.: Deletando o namespace, todos os recursos gerenciados por ele também são excluídos"
   ]
  },
  {
   "cell_type": "markdown",
   "metadata": {},
   "source": [
    "## Recapitulando\n",
    "\n",
    "* Como acessar um cluster na Azure com o comando AZ\n",
    "* Configurar o acesso a configuração com KUBECONFIG e kubectl config\n",
    "* Obter informações do cluster e nós, bem como métricas de uso dos nós\n",
    "* As APIs do kubernetes\n",
    "* Namespaces\n",
    "* Instalamos uma aplicação com kubectl e monitormamos o log e acessamos seu container\n",
    "* Escalamos a aplicação\n",
    "* Configuramos um serviço para acesso externo (loadbalancer)\n",
    "* Excluímos a aplicação"
   ]
  },
  {
   "cell_type": "markdown",
   "metadata": {},
   "source": [
    "[<img align=\"left\" src=\"media/voltar.png\" width=\"100\"/>](01_Preparacao.ipynb)[<img align=\"right\" src=\"media/avancar.png\" width=\"100\"/>](03_Helm.ipynb)\n"
   ]
  }
 ],
 "metadata": {
  "kernelspec": {
   "display_name": "Bash",
   "language": "bash",
   "name": "bash"
  },
  "language_info": {
   "codemirror_mode": "shell",
   "file_extension": ".sh",
   "mimetype": "text/x-sh",
   "name": "bash"
  }
 },
 "nbformat": 4,
 "nbformat_minor": 4
}
