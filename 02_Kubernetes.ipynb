{
 "cells": [
  {
   "cell_type": "markdown",
   "source": [
    "# [Kubernetes](https://kubernetes.io/pt/)\n",
    "\n",
    "Kubernetes (K8s) é um produto Open Source utilizado para automatizar a implantação, o dimensionamento e o gerenciamento de aplicativos em contêiner.\n",
    "\n",
    "## Visão geral\n",
    "\n",
    "<img src=\"https://d33wubrfki0l68.cloudfront.net/283cc20bb49089cb2ca54d51b4ac27720c1a7902/34424/docs/tutorials/kubernetes-basics/public/images/module_01_cluster.svg\" alt=\"drawing\" width=\"1000\"/>\n",
    "\n",
    "**Master**  \n",
    "Gerencia a alocação dos recursos no cluster.\n",
    "\n",
    "[**Nodes**](https://kubernetes.io/docs/concepts/architecture/nodes/)\n",
    "Executa os contêineres gerenciados pelo Cluster K8s.   \n",
    "O Kubernetes executa sua carga de trabalho colocando contêineres em pods para serem executados em nós(Node). - [node](https://d33wubrfki0l68.cloudfront.net/5cb72d407cbe2755e581b6de757e0d81760d5b86/a9df9/docs/tutorials/kubernetes-basics/public/images/module_03_nodes.svg)\n",
    "\n",
    "<img src=\"https://d33wubrfki0l68.cloudfront.net/5cb72d407cbe2755e581b6de757e0d81760d5b86/a9df9/docs/tutorials/kubernetes-basics/public/images/module_03_nodes.svg\" alt=\"drawing\" width=\"1000\"/>\n",
    "\n",
    "[**Namespace (ns)**](https://kubernetes.io/docs/concepts/overview/working-with-objects/namespaces/)  \n",
    "São clusters virtuais. Os namespaces são uma forma de dividir os recursos do cluster.\n",
    "Alguns exemplos de utilização: ambiente (DEV, HOM, PROD), produto, aplicação, time, ...\n",
    "Os recursos do kubernetes são criados no namespace kube-system.  \n",
    "\n",
    "[**Deployment (deploy)**](https://kubernetes.io/docs/concepts/workloads/controllers/deployment/)  \n",
    "Descreve o estado desejado do POD. \n",
    "\n",
    "[**ReplicaSet**](https://kubernetes.io/docs/concepts/workloads/controllers/replicaset/)  \n",
    "Recurso responsável por monitorar e manter os PODs em execução. Ele garante que o número específico de réplicas de PODs sejam executadas ao mesmo tempo.\n",
    "Caso um POD seja deletado, o ReplicaSet irá criar um novo de acordo com o estado desejado.\n",
    "\n",
    "[**POD**](https://kubernetes.io/docs/concepts/workloads/pods/)  \n",
    "Representa um conjunto de contêiners em execução no Cluster.\n",
    "\n",
    "[**Services (svc)**](https://kubernetes.io/docs/concepts/services-networking/service/)  \n",
    "Uma maneira abstrata de expor uma aplicação em execução em um conjunto de Pods como um serviço de rede.  \n",
    "Tipos de Serviço:\n",
    "* **ClusterIP** (Padrão): Expõe o serviço em um IP interno do cluster. A escolha desse valor torna o serviço acessível apenas de dentro do cluster.\n",
    "* **NodePort**: Cria uma porta estática exponto o serviço pelos nodes. O serviço fica acessível via \\<Node IP>:\\<Node Port>\n",
    "* **LoadBalancer**: Expõe o serviço externamente usando o balanceador de carga de um **provedor de nuvem**. \n",
    "* **ExternalName**: Mapeia o serviço para o conteúdo do campo externalName (por exemplo foo.bar.example.com).\n",
    "\n",
    "[**Ingress Controller**](https://kubernetes.io/docs/concepts/services-networking/ingress-controllers/) e [**Ingress**](https://kubernetes.io/docs/concepts/services-networking/ingress/)\n",
    "\n",
    "Você também pode usar o Ingress para expor seu serviço. Ingress não é um tipo de serviço, mas atua como o ponto de entrada para seu cluster. Ele permite que você consolide suas regras de roteamento em um único recurso, pois pode expor vários serviços no mesmo endereço IP.\n",
    "\n",
    "Ver: [Instalando NGINX Ingress no Kubernetes](https://kubernetes.github.io/ingress-nginx/deploy/#azure)\n",
    "\n",
    "[**Volumes**](https://kubernetes.io/docs/concepts/storage/)\n",
    "\n",
    "Criação de volumes e volumes persistentes para seus PODs.\n",
    "\n",
    "* [Persistent Volumes](https://kubernetes.io/docs/concepts/storage/persistent-volumes/)\n",
    "* [Dynamically create and use a persistent volume with Azure disks in Azure Kubernetes Service (AKS)](https://docs.microsoft.com/en-us/azure/aks/azure-disks-dynamic-pv)\n",
    "\n",
    "[**Horizontal Pod Autoscaler (HPA)**](https://kubernetes.io/docs/tasks/run-application/horizontal-pod-autoscale/)\n",
    "\n",
    "O HPA dimensiona automaticamente o número de PODs com base na utilização de CPU ou Memória (Beta).\n",
    "\n",
    "[**ConfigMap**](https://kubernetes.io/docs/concepts/configuration/configmap/)\n",
    "\n",
    "Utilizado para armazenar dados de configuração separados do código do aplicativo.\n",
    "\n",
    "> Importante: O ConfigMap não fornece sigilo ou criptografia. Se os dados que você deseja armazenar são confidenciais, use o [Secret](https://kubernetes.io/docs/concepts/configuration/secret/) em vez de um ConfigMap."
   ],
   "metadata": {}
  },
  {
   "cell_type": "markdown",
   "source": [
    "![](https://d33wubrfki0l68.cloudfront.net/7a13fe12acc9ea0728460c482c67e0eb31ff5303/2c8a7/docs/tutorials/kubernetes-basics/public/images/module_04_labels.svg)"
   ],
   "metadata": {}
  },
  {
   "cell_type": "code",
   "execution_count": 10,
   "source": [
    "# Listar todos os recursos do cluster\n",
    "kubectl api-resources"
   ],
   "outputs": [
    {
     "output_type": "stream",
     "name": "stdout",
     "text": [
      "NAME                              SHORTNAMES   APIVERSION                             NAMESPACED   KIND\n",
      "bindings                                       v1                                     true         Binding\n",
      "componentstatuses                 cs           v1                                     false        ComponentStatus\n",
      "configmaps                        cm           v1                                     true         ConfigMap\n",
      "endpoints                         ep           v1                                     true         Endpoints\n",
      "events                            ev           v1                                     true         Event\n",
      "limitranges                       limits       v1                                     true         LimitRange\n",
      "namespaces                        ns           v1                                     false        Namespace\n",
      "nodes                             no           v1                                     false        Node\n",
      "persistentvolumeclaims            pvc          v1                                     true         PersistentVolumeClaim\n",
      "persistentvolumes                 pv           v1                                     false        PersistentVolume\n",
      "pods                              po           v1                                     true         Pod\n",
      "podtemplates                                   v1                                     true         PodTemplate\n",
      "replicationcontrollers            rc           v1                                     true         ReplicationController\n",
      "resourcequotas                    quota        v1                                     true         ResourceQuota\n",
      "secrets                                        v1                                     true         Secret\n",
      "serviceaccounts                   sa           v1                                     true         ServiceAccount\n",
      "services                          svc          v1                                     true         Service\n",
      "mutatingwebhookconfigurations                  admissionregistration.k8s.io/v1        false        MutatingWebhookConfiguration\n",
      "validatingwebhookconfigurations                admissionregistration.k8s.io/v1        false        ValidatingWebhookConfiguration\n",
      "customresourcedefinitions         crd,crds     apiextensions.k8s.io/v1                false        CustomResourceDefinition\n",
      "apiservices                                    apiregistration.k8s.io/v1              false        APIService\n",
      "controllerrevisions                            apps/v1                                true         ControllerRevision\n",
      "daemonsets                        ds           apps/v1                                true         DaemonSet\n",
      "deployments                       deploy       apps/v1                                true         Deployment\n",
      "replicasets                       rs           apps/v1                                true         ReplicaSet\n",
      "statefulsets                      sts          apps/v1                                true         StatefulSet\n",
      "tokenreviews                                   authentication.k8s.io/v1               false        TokenReview\n",
      "localsubjectaccessreviews                      authorization.k8s.io/v1                true         LocalSubjectAccessReview\n",
      "selfsubjectaccessreviews                       authorization.k8s.io/v1                false        SelfSubjectAccessReview\n",
      "selfsubjectrulesreviews                        authorization.k8s.io/v1                false        SelfSubjectRulesReview\n",
      "subjectaccessreviews                           authorization.k8s.io/v1                false        SubjectAccessReview\n",
      "horizontalpodautoscalers          hpa          autoscaling/v1                         true         HorizontalPodAutoscaler\n",
      "cronjobs                          cj           batch/v1beta1                          true         CronJob\n",
      "jobs                                           batch/v1                               true         Job\n",
      "certificatesigningrequests        csr          certificates.k8s.io/v1                 false        CertificateSigningRequest\n",
      "leases                                         coordination.k8s.io/v1                 true         Lease\n",
      "endpointslices                                 discovery.k8s.io/v1beta1               true         EndpointSlice\n",
      "events                            ev           events.k8s.io/v1                       true         Event\n",
      "ingresses                         ing          extensions/v1beta1                     true         Ingress\n",
      "flowschemas                                    flowcontrol.apiserver.k8s.io/v1beta1   false        FlowSchema\n",
      "prioritylevelconfigurations                    flowcontrol.apiserver.k8s.io/v1beta1   false        PriorityLevelConfiguration\n",
      "nodes                                          metrics.k8s.io/v1beta1                 false        NodeMetrics\n",
      "pods                                           metrics.k8s.io/v1beta1                 true         PodMetrics\n",
      "monitoringdashboards                           monitoring.kiali.io/v1alpha1           true         MonitoringDashboard\n",
      "ingressclasses                                 networking.k8s.io/v1                   false        IngressClass\n",
      "ingresses                         ing          networking.k8s.io/v1                   true         Ingress\n",
      "networkpolicies                   netpol       networking.k8s.io/v1                   true         NetworkPolicy\n",
      "runtimeclasses                                 node.k8s.io/v1                         false        RuntimeClass\n",
      "poddisruptionbudgets              pdb          policy/v1beta1                         true         PodDisruptionBudget\n",
      "podsecuritypolicies               psp          policy/v1beta1                         false        PodSecurityPolicy\n",
      "clusterrolebindings                            rbac.authorization.k8s.io/v1           false        ClusterRoleBinding\n",
      "clusterroles                                   rbac.authorization.k8s.io/v1           false        ClusterRole\n",
      "rolebindings                                   rbac.authorization.k8s.io/v1           true         RoleBinding\n",
      "roles                                          rbac.authorization.k8s.io/v1           true         Role\n",
      "priorityclasses                   pc           scheduling.k8s.io/v1                   false        PriorityClass\n",
      "csidrivers                                     storage.k8s.io/v1                      false        CSIDriver\n",
      "csinodes                                       storage.k8s.io/v1                      false        CSINode\n",
      "storageclasses                    sc           storage.k8s.io/v1                      false        StorageClass\n",
      "volumeattachments                              storage.k8s.io/v1                      false        VolumeAttachment\n"
     ]
    }
   ],
   "metadata": {}
  },
  {
   "cell_type": "code",
   "execution_count": 14,
   "source": [
    "kubectl api-resources --namespaced=false"
   ],
   "outputs": [
    {
     "output_type": "stream",
     "name": "stdout",
     "text": [
      "NAME                              SHORTNAMES   APIVERSION                             NAMESPACED   KIND\n",
      "componentstatuses                 cs           v1                                     false        ComponentStatus\n",
      "namespaces                        ns           v1                                     false        Namespace\n",
      "nodes                             no           v1                                     false        Node\n",
      "persistentvolumes                 pv           v1                                     false        PersistentVolume\n",
      "mutatingwebhookconfigurations                  admissionregistration.k8s.io/v1        false        MutatingWebhookConfiguration\n",
      "validatingwebhookconfigurations                admissionregistration.k8s.io/v1        false        ValidatingWebhookConfiguration\n",
      "customresourcedefinitions         crd,crds     apiextensions.k8s.io/v1                false        CustomResourceDefinition\n",
      "apiservices                                    apiregistration.k8s.io/v1              false        APIService\n",
      "tokenreviews                                   authentication.k8s.io/v1               false        TokenReview\n",
      "selfsubjectaccessreviews                       authorization.k8s.io/v1                false        SelfSubjectAccessReview\n",
      "selfsubjectrulesreviews                        authorization.k8s.io/v1                false        SelfSubjectRulesReview\n",
      "subjectaccessreviews                           authorization.k8s.io/v1                false        SubjectAccessReview\n",
      "certificatesigningrequests        csr          certificates.k8s.io/v1                 false        CertificateSigningRequest\n",
      "flowschemas                                    flowcontrol.apiserver.k8s.io/v1beta1   false        FlowSchema\n",
      "prioritylevelconfigurations                    flowcontrol.apiserver.k8s.io/v1beta1   false        PriorityLevelConfiguration\n",
      "nodes                                          metrics.k8s.io/v1beta1                 false        NodeMetrics\n",
      "ingressclasses                                 networking.k8s.io/v1                   false        IngressClass\n",
      "runtimeclasses                                 node.k8s.io/v1                         false        RuntimeClass\n",
      "podsecuritypolicies               psp          policy/v1beta1                         false        PodSecurityPolicy\n",
      "clusterrolebindings                            rbac.authorization.k8s.io/v1           false        ClusterRoleBinding\n",
      "clusterroles                                   rbac.authorization.k8s.io/v1           false        ClusterRole\n",
      "priorityclasses                   pc           scheduling.k8s.io/v1                   false        PriorityClass\n",
      "csidrivers                                     storage.k8s.io/v1                      false        CSIDriver\n",
      "csinodes                                       storage.k8s.io/v1                      false        CSINode\n",
      "storageclasses                    sc           storage.k8s.io/v1                      false        StorageClass\n",
      "volumeattachments                              storage.k8s.io/v1                      false        VolumeAttachment\n"
     ]
    }
   ],
   "metadata": {}
  },
  {
   "cell_type": "code",
   "execution_count": 16,
   "source": [
    "kubectl explain nodes"
   ],
   "outputs": [
    {
     "output_type": "stream",
     "name": "stdout",
     "text": [
      "KIND:     Node\n",
      "VERSION:  v1\n",
      "\n",
      "DESCRIPTION:\n",
      "     Node is a worker node in Kubernetes. Each node will have a unique\n",
      "     identifier in the cache (i.e. in etcd).\n",
      "\n",
      "FIELDS:\n",
      "   apiVersion\t<string>\n",
      "     APIVersion defines the versioned schema of this representation of an\n",
      "     object. Servers should convert recognized schemas to the latest internal\n",
      "     value, and may reject unrecognized values. More info:\n",
      "     https://git.k8s.io/community/contributors/devel/sig-architecture/api-conventions.md#resources\n",
      "\n",
      "   kind\t<string>\n",
      "     Kind is a string value representing the REST resource this object\n",
      "     represents. Servers may infer this from the endpoint the client submits\n",
      "     requests to. Cannot be updated. In CamelCase. More info:\n",
      "     https://git.k8s.io/community/contributors/devel/sig-architecture/api-conventions.md#types-kinds\n",
      "\n",
      "   metadata\t<Object>\n",
      "     Standard object's metadata. More info:\n",
      "     https://git.k8s.io/community/contributors/devel/sig-architecture/api-conventions.md#metadata\n",
      "\n",
      "   spec\t<Object>\n",
      "     Spec defines the behavior of a node.\n",
      "     https://git.k8s.io/community/contributors/devel/sig-architecture/api-conventions.md#spec-and-status\n",
      "\n",
      "   status\t<Object>\n",
      "     Most recently observed status of the node. Populated by the system.\n",
      "     Read-only. More info:\n",
      "     https://git.k8s.io/community/contributors/devel/sig-architecture/api-conventions.md#spec-and-status\n",
      "\n"
     ]
    }
   ],
   "metadata": {}
  },
  {
   "cell_type": "markdown",
   "source": [
    "## Preparando o Acesso ao Ambiente    "
   ],
   "metadata": {}
  },
  {
   "cell_type": "markdown",
   "source": [
    "### Autenticando na Azure"
   ],
   "metadata": {}
  },
  {
   "cell_type": "code",
   "execution_count": null,
   "source": [
    "az login"
   ],
   "outputs": [],
   "metadata": {}
  },
  {
   "cell_type": "code",
   "execution_count": null,
   "source": [
    "az account set --subscription 73c8b399-a4ed-44b8-af3f-081a94ca1f65   "
   ],
   "outputs": [],
   "metadata": {}
  },
  {
   "cell_type": "markdown",
   "source": [
    "### Obtendo credenciais"
   ],
   "metadata": {}
  },
  {
   "cell_type": "code",
   "execution_count": null,
   "source": [
    "az aks get-credentials --resource-group kdop-dev --name kdop-learn -f work/kubeconfig"
   ],
   "outputs": [],
   "metadata": {}
  },
  {
   "cell_type": "markdown",
   "source": [
    "### Configurando o ambiente"
   ],
   "metadata": {}
  },
  {
   "cell_type": "code",
   "execution_count": 2,
   "source": [
    "export KUBECONFIG=~/work/kubeconfig\n",
    "export myNamespace=kdop-learn\n",
    "cd ~/work/inovacao\n",
    "echo $PWD"
   ],
   "outputs": [
    {
     "output_type": "stream",
     "name": "stdout",
     "text": [
      "/home/jovyan/work/inovacao\n"
     ]
    }
   ],
   "metadata": {}
  },
  {
   "cell_type": "code",
   "execution_count": 3,
   "source": [
    "# Verificando a configuração\n",
    "kubectl config view"
   ],
   "outputs": [
    {
     "output_type": "stream",
     "name": "stdout",
     "text": [
      "apiVersion: v1\n",
      "clusters:\n",
      "- cluster:\n",
      "    certificate-authority-data: DATA+OMITTED\n",
      "    server: https://kdop-learn-dns-ba39745b.hcp.eastus.azmk8s.io:443\n",
      "  name: kdop-learn\n",
      "contexts:\n",
      "- context:\n",
      "    cluster: kdop-learn\n",
      "    user: clusterUser_kdop-dev_kdop-learn\n",
      "  name: kdop-learn\n",
      "current-context: kdop-learn\n",
      "kind: Config\n",
      "preferences: {}\n",
      "users:\n",
      "- name: clusterUser_kdop-dev_kdop-learn\n",
      "  user:\n",
      "    client-certificate-data: REDACTED\n",
      "    client-key-data: REDACTED\n",
      "    token: REDACTED\n"
     ]
    }
   ],
   "metadata": {}
  },
  {
   "cell_type": "code",
   "execution_count": null,
   "source": [
    "kubectl config current-context\n",
    "kubectl config use-context kdop-learn"
   ],
   "outputs": [],
   "metadata": {}
  },
  {
   "cell_type": "markdown",
   "source": [
    "## Consultando nosso Cluster\n",
    "\n",
    "1. Consultando a Versão"
   ],
   "metadata": {}
  },
  {
   "cell_type": "code",
   "execution_count": null,
   "source": [
    "kubectl version"
   ],
   "outputs": [],
   "metadata": {}
  },
  {
   "cell_type": "markdown",
   "source": [
    "2. Consultando as informações do Cluster"
   ],
   "metadata": {}
  },
  {
   "cell_type": "code",
   "execution_count": null,
   "source": [
    "kubectl cluster-info"
   ],
   "outputs": [],
   "metadata": {
    "tags": []
   }
  },
  {
   "cell_type": "markdown",
   "source": [
    "3. Listando os nós do cluster"
   ],
   "metadata": {}
  },
  {
   "cell_type": "code",
   "execution_count": null,
   "source": [
    "kubectl get nodes"
   ],
   "outputs": [],
   "metadata": {}
  },
  {
   "cell_type": "markdown",
   "source": [
    "4. Verificando detalhes do node\n",
    "\n",
    "    Informe o nome do node exibido no passo anterior e execute o comando."
   ],
   "metadata": {}
  },
  {
   "cell_type": "code",
   "execution_count": null,
   "source": [
    "kubectl describe node aks-agentpool-65799894-vmss00000h"
   ],
   "outputs": [],
   "metadata": {}
  },
  {
   "cell_type": "markdown",
   "source": [
    "5. Verificando Processamento do Node"
   ],
   "metadata": {}
  },
  {
   "cell_type": "code",
   "execution_count": null,
   "source": [
    "kubectl top nodes"
   ],
   "outputs": [],
   "metadata": {}
  },
  {
   "cell_type": "markdown",
   "source": [
    "## Namespaces"
   ],
   "metadata": {}
  },
  {
   "cell_type": "markdown",
   "source": [
    "1. Consultando o namespace (ns)"
   ],
   "metadata": {}
  },
  {
   "cell_type": "code",
   "execution_count": 4,
   "source": [
    "kubectl get namespace"
   ],
   "outputs": [
    {
     "output_type": "stream",
     "name": "stdout",
     "text": [
      "NAME              STATUS   AGE\n",
      "default           Active   235d\n",
      "ingress-nginx     Active   80m\n",
      "kdop-learn        Active   102m\n",
      "kube-node-lease   Active   235d\n",
      "kube-public       Active   235d\n",
      "kube-system       Active   235d\n",
      "kubecost          Active   90d\n"
     ]
    }
   ],
   "metadata": {}
  },
  {
   "cell_type": "markdown",
   "source": [
    "2. Criando namespace (ns)"
   ],
   "metadata": {}
  },
  {
   "cell_type": "code",
   "execution_count": null,
   "source": [
    "kubectl create ns $myNamespace"
   ],
   "outputs": [],
   "metadata": {}
  },
  {
   "cell_type": "markdown",
   "source": [
    "3. Verificando os detalhes do namespace"
   ],
   "metadata": {}
  },
  {
   "cell_type": "code",
   "execution_count": 5,
   "source": [
    "kubectl describe ns $myNamespace"
   ],
   "outputs": [
    {
     "output_type": "stream",
     "name": "stdout",
     "text": [
      "Name:         kdop-learn\n",
      "Labels:       name=kdop-learn\n",
      "Annotations:  <none>\n",
      "Status:       Active\n",
      "\n",
      "No resource quota.\n",
      "\n",
      "No LimitRange resource.\n"
     ]
    }
   ],
   "metadata": {}
  },
  {
   "cell_type": "markdown",
   "source": [
    "4. Define um namespace como padrão (padrão é default)"
   ],
   "metadata": {}
  },
  {
   "cell_type": "code",
   "execution_count": null,
   "source": [
    "kubectl get pods"
   ],
   "outputs": [],
   "metadata": {}
  },
  {
   "cell_type": "code",
   "execution_count": 6,
   "source": [
    "kubectl config set-context --current --namespace=$myNamespace"
   ],
   "outputs": [
    {
     "output_type": "stream",
     "name": "stdout",
     "text": [
      "Context \"kdop-learn\" modified.\n"
     ]
    }
   ],
   "metadata": {}
  },
  {
   "cell_type": "code",
   "execution_count": null,
   "source": [
    "kubectl get pods"
   ],
   "outputs": [],
   "metadata": {}
  },
  {
   "cell_type": "code",
   "execution_count": null,
   "source": [
    "# O mesmo que\n",
    "kubectl get pods -n $myNamespace"
   ],
   "outputs": [],
   "metadata": {}
  },
  {
   "cell_type": "markdown",
   "source": [
    "## Subindo uma Aplicação\n",
    "\n",
    "Versionamos os recursos (namespace, deploy, service, ...) do cluster em arquivos YAML e para publicar estes recursos no Cluster k8s, utilizamos o comando:\n",
    "\n",
    "```\n",
    "kubectl apply -f ./my-resource.yaml \n",
    "```"
   ],
   "metadata": {}
  },
  {
   "cell_type": "markdown",
   "source": [
    "### Deployment\n",
    "\n",
    "    1. Criando deployment"
   ],
   "metadata": {}
  },
  {
   "cell_type": "code",
   "execution_count": 17,
   "source": [
    "cat <<EOF | kubectl -n $myNamespace apply -f -\n",
    "apiVersion: apps/v1\n",
    "kind: Deployment\n",
    "metadata:\n",
    "  name: helloworld\n",
    "spec:\n",
    "  replicas: 1\n",
    "  selector:\n",
    "    matchLabels:\n",
    "      app: helloworld\n",
    "  template:\n",
    "    metadata:\n",
    "      labels:\n",
    "        app: helloworld\n",
    "    spec:\n",
    "      containers:\n",
    "      - name: helloworld\n",
    "        image: docker.io/istio/examples-helloworld-v2\n",
    "        resources:\n",
    "          requests:          # Define o recurso necessário do container para o POD iniciar. \n",
    "            cpu: \"100m\"\n",
    "            memory: \"64Mi\"\n",
    "          limits:            # Define o limite do Recurso, o quando ele pode crescer, caso o nó possua recurso disponível.\n",
    "            memory: \"128Mi\"\n",
    "            cpu: \"250m\"            \n",
    "        imagePullPolicy: IfNotPresent #Always\n",
    "        ports:\n",
    "        - containerPort: 5000\n",
    "EOF        "
   ],
   "outputs": [
    {
     "output_type": "stream",
     "name": "stdout",
     "text": [
      "deployment.apps/helloworld created\n"
     ]
    }
   ],
   "metadata": {}
  },
  {
   "cell_type": "markdown",
   "source": [
    "    O deployment também pode ser criado com o códgio abaixo\n",
    "\n",
    "```bash\n",
    "kubectl -n $myNamespace create deployment helloworld --image=docker.io/istio/examples-helloworld-v2\n",
    "```\n",
    "\n",
    "2. Consultando o deployment (deploy)"
   ],
   "metadata": {}
  },
  {
   "cell_type": "code",
   "execution_count": null,
   "source": [
    "kubectl -n $myNamespace get deploy helloworld "
   ],
   "outputs": [],
   "metadata": {}
  },
  {
   "cell_type": "markdown",
   "source": [
    "Duvidas sobre deployment"
   ],
   "metadata": {}
  },
  {
   "cell_type": "code",
   "execution_count": 9,
   "source": [
    "kubectl explain deployment"
   ],
   "outputs": [
    {
     "output_type": "stream",
     "name": "stdout",
     "text": [
      "KIND:     Deployment\n",
      "VERSION:  apps/v1\n",
      "\n",
      "DESCRIPTION:\n",
      "     Deployment enables declarative updates for Pods and ReplicaSets.\n",
      "\n",
      "FIELDS:\n",
      "   apiVersion\t<string>\n",
      "     APIVersion defines the versioned schema of this representation of an\n",
      "     object. Servers should convert recognized schemas to the latest internal\n",
      "     value, and may reject unrecognized values. More info:\n",
      "     https://git.k8s.io/community/contributors/devel/sig-architecture/api-conventions.md#resources\n",
      "\n",
      "   kind\t<string>\n",
      "     Kind is a string value representing the REST resource this object\n",
      "     represents. Servers may infer this from the endpoint the client submits\n",
      "     requests to. Cannot be updated. In CamelCase. More info:\n",
      "     https://git.k8s.io/community/contributors/devel/sig-architecture/api-conventions.md#types-kinds\n",
      "\n",
      "   metadata\t<Object>\n",
      "     Standard object metadata.\n",
      "\n",
      "   spec\t<Object>\n",
      "     Specification of the desired behavior of the Deployment.\n",
      "\n",
      "   status\t<Object>\n",
      "     Most recently observed status of the Deployment.\n",
      "\n"
     ]
    }
   ],
   "metadata": {}
  },
  {
   "cell_type": "markdown",
   "source": [
    "3. Consultando o POD"
   ],
   "metadata": {}
  },
  {
   "cell_type": "code",
   "execution_count": null,
   "source": [
    "kubectl -n $myNamespace get pod # Para mais detalhes, trocar o comando get por describe"
   ],
   "outputs": [],
   "metadata": {}
  },
  {
   "cell_type": "markdown",
   "source": [
    "4. Verificando o log do POD\n",
    "\n",
    "    Informe o nome do POD apresentado no comando anterior para executar os passos  4, 5 e 6."
   ],
   "metadata": {}
  },
  {
   "cell_type": "code",
   "execution_count": null,
   "source": [
    "kubectl -n $myNamespace logs helloworld-7c54d6c5cb-wmr6d"
   ],
   "outputs": [],
   "metadata": {}
  },
  {
   "cell_type": "code",
   "execution_count": 18,
   "source": [
    "# Alternativa\n",
    "kubectl logs deploy/helloworld"
   ],
   "outputs": [
    {
     "output_type": "stream",
     "name": "stdout",
     "text": [
      " * Running on http://0.0.0.0:5000/ (Press CTRL+C to quit)\n"
     ]
    }
   ],
   "metadata": {}
  },
  {
   "cell_type": "markdown",
   "source": [
    "5. Conectando no POD"
   ],
   "metadata": {}
  },
  {
   "cell_type": "code",
   "execution_count": null,
   "source": [
    "# Executar em um terminal\n",
    "\n",
    "export KUBECONFIG=~/work/kubeconfig\n",
    "export myNamespace=kdop-learn\n",
    "\n",
    "# Usar essa sintaxe\n",
    "kubectl -n $myNamespace exec -it helloworld-7c54d6c5cb-wmr6d -- bash\n",
    "\n",
    "# No container\n",
    "curl localhost:5000/hello"
   ],
   "outputs": [],
   "metadata": {}
  },
  {
   "cell_type": "markdown",
   "source": [
    "6. Deletando o POD"
   ],
   "metadata": {}
  },
  {
   "cell_type": "code",
   "execution_count": null,
   "source": [
    "kubectl -n $myNamespace delete pod/helloworld-7c54d6c5cb-wmr6d"
   ],
   "outputs": [],
   "metadata": {}
  },
  {
   "cell_type": "markdown",
   "source": [
    "### ReplicaSet\n",
    "    Podemos verificar que o POD será recriado.\n",
    "    O ReplicaSet garante que o aplicação mantanha o estado desejado configurado no deployment."
   ],
   "metadata": {}
  },
  {
   "cell_type": "code",
   "execution_count": null,
   "source": [
    "kubectl -n $myNamespace get pod"
   ],
   "outputs": [],
   "metadata": {}
  },
  {
   "cell_type": "markdown",
   "source": [
    "### Services\n",
    "\n",
    "1. Criando o serviço"
   ],
   "metadata": {}
  },
  {
   "cell_type": "code",
   "execution_count": null,
   "source": [
    "cat <<EOF | kubectl -n $myNamespace apply -f -\n",
    "apiVersion: v1\n",
    "kind: Service\n",
    "metadata:\n",
    "  name: helloworld\n",
    "  labels:\n",
    "    app: helloworld\n",
    "spec:\n",
    "  ports:\n",
    "  - port: 8080       #Porta para acesso ao Serviço\n",
    "#   nodePort: 30800  #Porta para acesso aos nós do Cluster (range default: 30000-32767)\n",
    "    name: http\n",
    "    targetPort: 5000 #Porta para acesso ao POD   \n",
    "  selector:\n",
    "    app: helloworld\n",
    "  type: LoadBalancer    \n",
    "EOF    "
   ],
   "outputs": [],
   "metadata": {}
  },
  {
   "cell_type": "markdown",
   "source": [
    "2. Consultando o Serviço (svc)"
   ],
   "metadata": {}
  },
  {
   "cell_type": "code",
   "execution_count": null,
   "source": [
    "kubectl -n $myNamespace get svc"
   ],
   "outputs": [],
   "metadata": {}
  },
  {
   "cell_type": "markdown",
   "source": [
    "    Para acessar o serviço, verifique o IP Externo liberado e acesse conforme abaixo\n",
    "* [http://40.76.170.227:8080/hello](http://40.76.170.227:8080/hello)"
   ],
   "metadata": {}
  },
  {
   "cell_type": "markdown",
   "source": [
    "3. Excluindo os Recursos"
   ],
   "metadata": {}
  },
  {
   "cell_type": "code",
   "execution_count": null,
   "source": [
    "kubectl -n $myNamespace delete svc helloworld\n",
    "kubectl -n $myNamespace delete deploy helloworld\n",
    "kubectl -n $myNamespace delete ns $myNamespace"
   ],
   "outputs": [],
   "metadata": {}
  },
  {
   "cell_type": "markdown",
   "source": [
    "> Obs.: Deletando o namespace, todos os recursos gerenciados por ele também são excluídos"
   ],
   "metadata": {}
  },
  {
   "cell_type": "markdown",
   "source": [
    "[<img align=\"left\" src=\"media/voltar.png\" width=\"100\"/>](01_Preparacao.ipynb)[<img align=\"right\" src=\"media/avancar.png\" width=\"100\"/>](03_Helm.ipynb)\n"
   ],
   "metadata": {}
  }
 ],
 "metadata": {
  "kernelspec": {
   "display_name": "Bash",
   "language": "bash",
   "name": "bash"
  },
  "language_info": {
   "codemirror_mode": "shell",
   "file_extension": ".sh",
   "mimetype": "text/x-sh",
   "name": "bash"
  }
 },
 "nbformat": 4,
 "nbformat_minor": 4
}